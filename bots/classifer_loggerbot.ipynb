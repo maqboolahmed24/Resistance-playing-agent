{
  "cells": [
    {
      "cell_type": "markdown",
      "metadata": {
        "id": "XkiufCqXWR5O"
      },
      "source": [
        "### Code to train a neural network based on our loggerbot's csv output\n",
        "\n",
        "First we load the log file in csv format.  This assumes our columns are stored in the order exactly as below, and also that there is no contamination (e.g. other print statements) in the csv file:"
      ]
    },
    {
      "cell_type": "code",
      "execution_count": 10,
      "metadata": {
        "id": "vcVhE3pQWR5Q"
      },
      "outputs": [],
      "source": [
        "import pandas as pd\n",
        "# This assumes we've copied the log file (\"LoggerBot.log\") into our current working folder...\n",
        "df0=pd.read_csv(\"LoggerBot.log\",names=[\"Turn\",\"Try\",\"PlayerID\",\"PlayerName\",\"MissionsBeenOn\",\"FailedMissionsBeenOn\",\"VotedUp0\",\"VotedUp1\",\"VotedUp2\",\"VotedUp3\",\"VotedUp4\",\"VotedUp5\",\"VotedDown0\",\"VotedDown1\",\"VotedDown2\",\"VotedDown3\",\"VotedDown4\",\"VotedDown5\",\"Spy\"])"
      ]
    },
    {
      "cell_type": "code",
      "execution_count": 11,
      "metadata": {
        "colab": {
          "base_uri": "https://localhost:8080/"
        },
        "id": "CJG5qAnLWR5R",
        "outputId": "4be6c2b0-d695-4617-e943-fd4a5658bc02"
      },
      "outputs": [
        {
          "output_type": "stream",
          "name": "stdout",
          "text": [
            "   Turn  Try  PlayerID  PlayerName  MissionsBeenOn  FailedMissionsBeenOn  \\\n",
            "0     1    1         0  Logicalton               0                     0   \n",
            "1     2    1         0  Logicalton               1                     1   \n",
            "2     3    1         0  Logicalton               1                     1   \n",
            "3     1    1         1  Trickerton               0                     0   \n",
            "4     2    1         1  Trickerton               1                     1   \n",
            "5     3    1         1  Trickerton               2                     2   \n",
            "6     1    1         2     Bounder               0                     0   \n",
            "7     2    1         2     Bounder               0                     0   \n",
            "8     3    1         2     Bounder               1                     1   \n",
            "9     1    1         3   LoggerBot               0                     0   \n",
            "\n",
            "   VotedUp0  VotedUp1  VotedUp2  VotedUp3  VotedUp4  VotedUp5  VotedDown0  \\\n",
            "0         1         0         0         0         0         0           0   \n",
            "1         1         1         0         0         0         0           0   \n",
            "2         1         2         0         0         0         0           0   \n",
            "3         1         0         0         0         0         0           0   \n",
            "4         1         1         0         0         0         0           0   \n",
            "5         1         2         0         0         0         0           0   \n",
            "6         1         0         0         0         0         0           0   \n",
            "7         1         1         0         0         0         0           0   \n",
            "8         1         2         0         0         0         0           0   \n",
            "9         1         0         0         0         0         0           0   \n",
            "\n",
            "   VotedDown1  VotedDown2  VotedDown3  VotedDown4  VotedDown5  Spy  \n",
            "0           0           0           0           0           0    1  \n",
            "1           0           0           0           0           0    1  \n",
            "2           0           0           0           0           0    1  \n",
            "3           0           0           0           0           0    0  \n",
            "4           0           0           0           0           0    0  \n",
            "5           0           0           0           0           0    0  \n",
            "6           0           0           0           0           0    1  \n",
            "7           0           0           0           0           0    1  \n",
            "8           0           0           0           0           0    1  \n",
            "9           0           0           0           0           0    0  \n"
          ]
        }
      ],
      "source": [
        "# This next line just prints the first 5 rows of the loaded data, df0, which is a pandas dataframe object\n",
        "print(df0.head(10))"
      ]
    },
    {
      "cell_type": "code",
      "execution_count": 12,
      "metadata": {
        "colab": {
          "base_uri": "https://localhost:8080/"
        },
        "id": "lk_Ql9VAWR5R",
        "outputId": "71657a2a-0bd8-4ee9-edc6-84a5d9fc472e"
      },
      "outputs": [
        {
          "output_type": "stream",
          "name": "stdout",
          "text": [
            "    Turn  Try  PlayerID PlayerName  MissionsBeenOn  FailedMissionsBeenOn  \\\n",
            "6      1    1         2    Bounder               0                     0   \n",
            "7      2    1         2    Bounder               0                     0   \n",
            "8      3    1         2    Bounder               1                     1   \n",
            "27     1    1         3    Bounder               0                     0   \n",
            "28     2    1         3    Bounder               0                     0   \n",
            "\n",
            "    VotedUp0  VotedUp1  VotedUp2  VotedUp3  VotedUp4  VotedUp5  VotedDown0  \\\n",
            "6          1         0         0         0         0         0           0   \n",
            "7          1         1         0         0         0         0           0   \n",
            "8          1         2         0         0         0         0           0   \n",
            "27         1         0         0         0         0         0           0   \n",
            "28         1         0         0         0         0         0           1   \n",
            "\n",
            "    VotedDown1  VotedDown2  VotedDown3  VotedDown4  VotedDown5  Spy  \n",
            "6            0           0           0           0           0    1  \n",
            "7            0           0           0           0           0    1  \n",
            "8            0           0           0           0           0    1  \n",
            "27           0           0           0           0           0    0  \n",
            "28           0           0           0           0           0    0  \n"
          ]
        }
      ],
      "source": [
        "# Let's take a subset of the data which only corresponds to the player \"Bounder\", \n",
        "# since bounder is hopefully quite representitive of a good player.  This decision to use only one bot\n",
        "# might not be optimal, but it simplifies things for now.\n",
        "df=df0.query(\"PlayerName=='Bounder'\") # we can filter a pandas dataframe very nicely like an SQL query!\n",
        "print(df.head()) #print the filtered dataset"
      ]
    },
    {
      "cell_type": "code",
      "execution_count": 13,
      "metadata": {
        "colab": {
          "base_uri": "https://localhost:8080/"
        },
        "id": "XhRnD4kMWR5S",
        "outputId": "00baf631-e108-4726-d33a-6ebf75732b91"
      },
      "outputs": [
        {
          "output_type": "stream",
          "name": "stdout",
          "text": [
            "               Turn           Try      PlayerID  MissionsBeenOn  \\\n",
            "count  95991.000000  95991.000000  95991.000000    95991.000000   \n",
            "mean       2.743643      1.205269      2.005678        0.815806   \n",
            "std        1.279998      0.537280      1.415553        0.836170   \n",
            "min        1.000000      1.000000      0.000000        0.000000   \n",
            "25%        2.000000      1.000000      1.000000        0.000000   \n",
            "50%        3.000000      1.000000      2.000000        1.000000   \n",
            "75%        4.000000      1.000000      3.000000        1.000000   \n",
            "max        5.000000      5.000000      4.000000        4.000000   \n",
            "\n",
            "       FailedMissionsBeenOn      VotedUp0      VotedUp1      VotedUp2  \\\n",
            "count          95991.000000  95991.000000  95991.000000  95991.000000   \n",
            "mean               0.496984      1.300768      0.473451      0.227521   \n",
            "std                0.614094      0.564826      0.650675      0.497990   \n",
            "min                0.000000      1.000000      0.000000      0.000000   \n",
            "25%                0.000000      1.000000      0.000000      0.000000   \n",
            "50%                0.000000      1.000000      0.000000      0.000000   \n",
            "75%                1.000000      2.000000      1.000000      0.000000   \n",
            "max                2.000000      8.000000      6.000000      4.000000   \n",
            "\n",
            "           VotedUp3      VotedUp4      VotedUp5    VotedDown0    VotedDown1  \\\n",
            "count  95991.000000  95991.000000  95991.000000  95991.000000  95991.000000   \n",
            "mean       0.097238      0.022481      0.000823      0.390516      0.310039   \n",
            "std        0.332783      0.156183      0.028676      0.620677      0.579864   \n",
            "min        0.000000      0.000000      0.000000      0.000000      0.000000   \n",
            "25%        0.000000      0.000000      0.000000      0.000000      0.000000   \n",
            "50%        0.000000      0.000000      0.000000      0.000000      0.000000   \n",
            "75%        0.000000      0.000000      0.000000      1.000000      1.000000   \n",
            "max        3.000000      3.000000      1.000000      5.000000      8.000000   \n",
            "\n",
            "         VotedDown2    VotedDown3    VotedDown4    VotedDown5           Spy  \n",
            "count  95991.000000  95991.000000  95991.000000  95991.000000  95991.000000  \n",
            "mean       0.183944      0.106948      0.028794      0.000740      0.393808  \n",
            "std        0.478315      0.359360      0.176798      0.027943      0.488596  \n",
            "min        0.000000      0.000000      0.000000      0.000000      0.000000  \n",
            "25%        0.000000      0.000000      0.000000      0.000000      0.000000  \n",
            "50%        0.000000      0.000000      0.000000      0.000000      0.000000  \n",
            "75%        0.000000      0.000000      0.000000      0.000000      1.000000  \n",
            "max        6.000000      4.000000      3.000000      2.000000      1.000000  \n"
          ]
        }
      ],
      "source": [
        "print(df.describe()) # print some key column information\n",
        "# This lets us visually inspect the columns to check there's no nan values in there or infinity values,\n",
        "# or anything else showing signs of data corruption...."
      ]
    },
    {
      "cell_type": "code",
      "execution_count": 14,
      "metadata": {
        "colab": {
          "base_uri": "https://localhost:8080/"
        },
        "id": "SXm5ETBxWR5S",
        "outputId": "aff9a89e-3e57-423b-df9f-c567d2f98b1f"
      },
      "outputs": [
        {
          "output_type": "stream",
          "name": "stdout",
          "text": [
            "(95991,)\n",
            "[1 1 1 0 0 0]\n",
            "[[0. 0. 1. 0. 0. 0. 0. 0. 0. 0. 0. 0. 0. 0.]\n",
            " [0. 0. 1. 1. 0. 0. 0. 0. 0. 0. 0. 0. 0. 0.]\n",
            " [1. 1. 1. 2. 0. 0. 0. 0. 0. 0. 0. 0. 0. 0.]\n",
            " [0. 0. 1. 0. 0. 0. 0. 0. 0. 0. 0. 0. 0. 0.]\n",
            " [0. 0. 1. 0. 0. 0. 0. 0. 1. 0. 0. 0. 0. 0.]\n",
            " [1. 1. 1. 0. 1. 0. 0. 0. 1. 0. 0. 0. 0. 0.]]\n"
          ]
        }
      ],
      "source": [
        "import numpy as np \n",
        "x_train=df.values[:,4:18].astype(np.float32) # This filters out only the columns we want to use as input vector for our NN.\n",
        "# Note [:,4:18] only includes columns 4 to 17 inclusive (it does not include column 18)\n",
        "y_train=df.values[:,18].astype(np.int32) # This is our target column.\n",
        "print(y_train.shape) # This is just a rank 1 array.\n",
        "print(y_train[0:6]) # first 6 entries of y.  Should be all 1s and zeros\n",
        "print(x_train[0:6]) # first 6 rows of x, our input vectors.\n",
        "num_inputs=x_train.shape[1] # this works out how many columns there are in x, i.e. how many inputs our network needs.\n",
        "num_outputs=2 # Two outputs needed - for \"spy\" or \"not spy\"."
      ]
    },
    {
      "cell_type": "code",
      "execution_count": 15,
      "metadata": {
        "id": "w15U3RQ8WR5S"
      },
      "outputs": [],
      "source": [
        "# Split the dataset into a training data set and a validation dataset.\n",
        "dataset_size=len(x_train)\n",
        "train_set_size=int(dataset_size*0.70) # choose 70% of the data for training and 30% for validation\n",
        "x_val,y_val=x_train[train_set_size:],y_train[train_set_size:]\n",
        "x_train,y_train=x_train[:train_set_size],y_train[:train_set_size]"
      ]
    },
    {
      "cell_type": "code",
      "source": [
        "import tensorflow_decision_forests as tfdf"
      ],
      "metadata": {
        "id": "gK5VSnlRfeXI"
      },
      "execution_count": 16,
      "outputs": []
    },
    {
      "cell_type": "code",
      "execution_count": 8,
      "metadata": {
        "colab": {
          "base_uri": "https://localhost:8080/",
          "height": 258
        },
        "id": "w-HTJ7CvWR5T",
        "outputId": "b088b537-e4b0-4e39-f66f-eb056d8b5681"
      },
      "outputs": [
        {
          "output_type": "error",
          "ename": "NameError",
          "evalue": "ignored",
          "traceback": [
            "\u001b[0;31m---------------------------------------------------------------------------\u001b[0m",
            "\u001b[0;31mNameError\u001b[0m                                 Traceback (most recent call last)",
            "\u001b[0;32m<ipython-input-8-4294a8e17a4e>\u001b[0m in \u001b[0;36m<module>\u001b[0;34m\u001b[0m\n\u001b[1;32m      8\u001b[0m \u001b[0mlayer1\u001b[0m\u001b[0;34m=\u001b[0m\u001b[0mlayers\u001b[0m\u001b[0;34m.\u001b[0m\u001b[0mDense\u001b[0m\u001b[0;34m(\u001b[0m\u001b[0;36m10\u001b[0m\u001b[0;34m,\u001b[0m \u001b[0mactivation\u001b[0m\u001b[0;34m=\u001b[0m\u001b[0;34m\"tanh\"\u001b[0m\u001b[0;34m,\u001b[0m \u001b[0minput_shape\u001b[0m\u001b[0;34m=\u001b[0m\u001b[0;34m(\u001b[0m\u001b[0mnum_inputs\u001b[0m\u001b[0;34m,\u001b[0m\u001b[0;34m)\u001b[0m\u001b[0;34m)\u001b[0m\u001b[0;34m\u001b[0m\u001b[0;34m\u001b[0m\u001b[0m\n\u001b[1;32m      9\u001b[0m \u001b[0;31m# model.add(layer1)\u001b[0m\u001b[0;34m\u001b[0m\u001b[0;34m\u001b[0m\u001b[0;34m\u001b[0m\u001b[0m\n\u001b[0;32m---> 10\u001b[0;31m \u001b[0mlayer2\u001b[0m\u001b[0;34m=\u001b[0m\u001b[0mlayers\u001b[0m\u001b[0;34m.\u001b[0m\u001b[0mDense\u001b[0m\u001b[0;34m(\u001b[0m\u001b[0;36m10\u001b[0m\u001b[0;34m,\u001b[0m \u001b[0mactivation\u001b[0m\u001b[0;34m=\u001b[0m\u001b[0;34m\"tanh\"\u001b[0m\u001b[0;34m)\u001b[0m\u001b[0;34m(\u001b[0m\u001b[0mlayers1\u001b[0m\u001b[0;34m)\u001b[0m\u001b[0;34m\u001b[0m\u001b[0;34m\u001b[0m\u001b[0m\n\u001b[0m\u001b[1;32m     11\u001b[0m \u001b[0;31m# model.add(layer2)\u001b[0m\u001b[0;34m\u001b[0m\u001b[0;34m\u001b[0m\u001b[0;34m\u001b[0m\u001b[0m\n\u001b[1;32m     12\u001b[0m \u001b[0mlayer3\u001b[0m\u001b[0;34m=\u001b[0m\u001b[0mlayers\u001b[0m\u001b[0;34m.\u001b[0m\u001b[0mDense\u001b[0m\u001b[0;34m(\u001b[0m\u001b[0mnum_outputs\u001b[0m\u001b[0;34m)\u001b[0m\u001b[0;34m(\u001b[0m\u001b[0mlayers3\u001b[0m\u001b[0;34m)\u001b[0m \u001b[0;31m#   No activation function here, we'll use from_logits=True below which implicitly adds the softmax into the training loss function.\u001b[0m\u001b[0;34m\u001b[0m\u001b[0;34m\u001b[0m\u001b[0m\n",
            "\u001b[0;31mNameError\u001b[0m: name 'layers1' is not defined"
          ]
        }
      ],
      "source": [
        "# Build a keras model:\n",
        "import tensorflow as tf\n",
        "from tensorflow import keras\n",
        "from tensorflow.keras import layers\n",
        "\n",
        "# Define Sequential model with 3 layers\n",
        "\n",
        "layer1=layers.Dense(10, activation=\"tanh\", input_shape=(num_inputs,))\n",
        "# model.add(layer1)\n",
        "layer2=layers.Dense(10, activation=\"tanh\")(layers1)\n",
        "# model.add(layer2)\n",
        "layer3=layers.Dense(num_outputs)(layers3) #   No activation function here, we'll use from_logits=True below which implicitly adds the softmax into the training loss function.\n",
        "# model.add(layer3)\n",
        "model = tfdf.keras.RandomForestModel(layers2,layers)\n",
        "# layer1=layers.Dense(10, activation=\"tanh\", input_shape=(num_inputs,))\n",
        "# model.add(layer1)\n",
        "# layer2=layers.Dense(10, activation=\"tanh\")\n",
        "# model.add(layer2)\n",
        "# layer3=layers.Dense(num_outputs) #   No activation function here, we'll use from_logits=True below which implicitly adds the softmax into the training loss function.\n",
        "# model.add(layer3)\n",
        "\n",
        "print(model(x_train[0:3])) # just check the NN is the correct shape for our training data, and see what comes out of it:"
      ]
    },
    {
      "cell_type": "code",
      "source": [
        "import tensorflow as tf\n",
        "from tensorflow import keras\n",
        "from tensorflow.keras import layers\n",
        "\n",
        "model = keras.Sequential( name = 'my_neural_network')\n",
        "layer1=layers.Dense(100, activation=\"tanh\", input_shape=(num_inputs,))\n",
        "model.add(layer1)\n",
        "layer2=layers.Dense(100, activation=\"tanh\")\n",
        "model.add(layer2)\n",
        "# layer4=layers.Dense(10, activation=\"tanh\")\n",
        "# model.add(layer4)\n",
        "layer3=layers.Dense(num_outputs) #   No activation function here, we'll use from_logits=True below which implicitly adds the softmax into the training loss function.\n",
        "model.add(layer3)\n",
        "\n",
        "print(model(x_train[0:3]))"
      ],
      "metadata": {
        "colab": {
          "base_uri": "https://localhost:8080/"
        },
        "id": "ULfV332u5xfF",
        "outputId": "9baad0b7-c822-4fb9-c885-403c679f135b"
      },
      "execution_count": 26,
      "outputs": [
        {
          "output_type": "stream",
          "name": "stdout",
          "text": [
            "tf.Tensor(\n",
            "[[ 0.16223958 -0.3043834 ]\n",
            " [ 0.1872272  -0.3759079 ]\n",
            " [ 0.04066443 -0.55596167]], shape=(3, 2), dtype=float32)\n"
          ]
        }
      ]
    },
    {
      "cell_type": "code",
      "source": [
        "tuner = tfdf.tuner.RandomSearch(num_trials=20)\n",
        "\n",
        "# Hyper-parameters to optimize."
      ],
      "metadata": {
        "id": "8cGsEgRA-Tha"
      },
      "execution_count": 27,
      "outputs": []
    },
    {
      "cell_type": "code",
      "source": [
        "# inputs = tf.keras.Input(shape=(num_inputs,))\n",
        "# x = tf.keras.layers.Dense(10)(inputs)\n",
        "# outputs = tf.keras.layers.Dense(1)(x)\n",
        "\n",
        "# model2 = tfdf.keras.RandomForestModel(\n",
        "#     num_trees=500,\n",
        "#     growing_strategy=\"BEST_FIRST_GLOBAL\",\n",
        "#     max_depth=10,\n",
        "#     split_axis=\"SPARSE_OBLIQUE\",\n",
        "#     inputs = tf.keras.layers.Dense(10,activation = 'relu')\n",
        "    \n",
        "# )"
      ],
      "metadata": {
        "colab": {
          "base_uri": "https://localhost:8080/",
          "height": 240
        },
        "id": "QugtKLnm9cMK",
        "outputId": "492ae595-02f6-4218-9841-d71c5e54c4a4"
      },
      "execution_count": 10,
      "outputs": [
        {
          "output_type": "error",
          "ename": "NameError",
          "evalue": "ignored",
          "traceback": [
            "\u001b[0;31m---------------------------------------------------------------------------\u001b[0m",
            "\u001b[0;31mNameError\u001b[0m                                 Traceback (most recent call last)",
            "\u001b[0;32m<ipython-input-10-49570fdefdf6>\u001b[0m in \u001b[0;36m<module>\u001b[0;34m\u001b[0m\n\u001b[1;32m      3\u001b[0m \u001b[0moutputs\u001b[0m \u001b[0;34m=\u001b[0m \u001b[0mtf\u001b[0m\u001b[0;34m.\u001b[0m\u001b[0mkeras\u001b[0m\u001b[0;34m.\u001b[0m\u001b[0mlayers\u001b[0m\u001b[0;34m.\u001b[0m\u001b[0mDense\u001b[0m\u001b[0;34m(\u001b[0m\u001b[0;36m1\u001b[0m\u001b[0;34m)\u001b[0m\u001b[0;34m(\u001b[0m\u001b[0mx\u001b[0m\u001b[0;34m)\u001b[0m\u001b[0;34m\u001b[0m\u001b[0;34m\u001b[0m\u001b[0m\n\u001b[1;32m      4\u001b[0m \u001b[0;34m\u001b[0m\u001b[0m\n\u001b[0;32m----> 5\u001b[0;31m model2 = tfdf.keras.RandomForestModel(\n\u001b[0m\u001b[1;32m      6\u001b[0m     \u001b[0mnum_trees\u001b[0m\u001b[0;34m=\u001b[0m\u001b[0;36m500\u001b[0m\u001b[0;34m,\u001b[0m\u001b[0;34m\u001b[0m\u001b[0;34m\u001b[0m\u001b[0m\n\u001b[1;32m      7\u001b[0m     \u001b[0mgrowing_strategy\u001b[0m\u001b[0;34m=\u001b[0m\u001b[0;34m\"BEST_FIRST_GLOBAL\"\u001b[0m\u001b[0;34m,\u001b[0m\u001b[0;34m\u001b[0m\u001b[0;34m\u001b[0m\u001b[0m\n",
            "\u001b[0;31mNameError\u001b[0m: name 'tfdf' is not defined"
          ]
        }
      ]
    },
    {
      "cell_type": "code",
      "execution_count": 28,
      "metadata": {
        "id": "vw82tocvWR5T"
      },
      "outputs": [],
      "source": [
        "# Do the usual business for keras training\n",
        "# It's a classification problem , so we need cross entropy here.\n",
        "model.compile(\n",
        "    optimizer=keras.optimizers.Adam(0.001),  # Optimizer\n",
        "    # Loss function to minimize\n",
        "    loss=keras.losses.SparseCategoricalCrossentropy(from_logits=True),\n",
        "    metrics='accuracy'\n",
        ")"
      ]
    },
    {
      "cell_type": "code",
      "source": [
        "# model2.compile(optimizer=\"Adam\", loss=\"mse\", metrics=[\"mae\", \"acc\"])"
      ],
      "metadata": {
        "id": "95clHUX8_7_n"
      },
      "execution_count": 18,
      "outputs": []
    },
    {
      "cell_type": "code",
      "execution_count": 29,
      "metadata": {
        "colab": {
          "base_uri": "https://localhost:8080/"
        },
        "id": "3LzRo_pjWR5T",
        "outputId": "c86239f6-09ab-4713-93e9-b4c9b1118135"
      },
      "outputs": [
        {
          "output_type": "stream",
          "name": "stdout",
          "text": [
            "Epoch 1/120\n",
            "1440/1440 [==============================] - 5s 3ms/step - loss: 0.4662 - accuracy: 0.7397 - val_loss: 0.4555 - val_accuracy: 0.7509\n",
            "Epoch 2/120\n",
            "1440/1440 [==============================] - 5s 3ms/step - loss: 0.4497 - accuracy: 0.7510 - val_loss: 0.4434 - val_accuracy: 0.7569\n",
            "Epoch 3/120\n",
            "1440/1440 [==============================] - 4s 3ms/step - loss: 0.4413 - accuracy: 0.7564 - val_loss: 0.4365 - val_accuracy: 0.7601\n",
            "Epoch 4/120\n",
            "1440/1440 [==============================] - 5s 3ms/step - loss: 0.4341 - accuracy: 0.7594 - val_loss: 0.4290 - val_accuracy: 0.7736\n",
            "Epoch 5/120\n",
            "1440/1440 [==============================] - 4s 3ms/step - loss: 0.4294 - accuracy: 0.7627 - val_loss: 0.4264 - val_accuracy: 0.7659\n",
            "Epoch 6/120\n",
            "1440/1440 [==============================] - 5s 3ms/step - loss: 0.4257 - accuracy: 0.7651 - val_loss: 0.4232 - val_accuracy: 0.7706\n",
            "Epoch 7/120\n",
            "1440/1440 [==============================] - 4s 3ms/step - loss: 0.4242 - accuracy: 0.7653 - val_loss: 0.4257 - val_accuracy: 0.7636\n",
            "Epoch 8/120\n",
            "1440/1440 [==============================] - 5s 3ms/step - loss: 0.4224 - accuracy: 0.7667 - val_loss: 0.4147 - val_accuracy: 0.7748\n",
            "Epoch 9/120\n",
            "1440/1440 [==============================] - 5s 3ms/step - loss: 0.4203 - accuracy: 0.7684 - val_loss: 0.4175 - val_accuracy: 0.7723\n",
            "Epoch 10/120\n",
            "1440/1440 [==============================] - 4s 3ms/step - loss: 0.4194 - accuracy: 0.7667 - val_loss: 0.4183 - val_accuracy: 0.7710\n",
            "Epoch 11/120\n",
            "1440/1440 [==============================] - 5s 4ms/step - loss: 0.4178 - accuracy: 0.7682 - val_loss: 0.4133 - val_accuracy: 0.7757\n",
            "Epoch 12/120\n",
            "1440/1440 [==============================] - 5s 4ms/step - loss: 0.4166 - accuracy: 0.7702 - val_loss: 0.4167 - val_accuracy: 0.7739\n",
            "Epoch 13/120\n",
            "1440/1440 [==============================] - 5s 3ms/step - loss: 0.4153 - accuracy: 0.7697 - val_loss: 0.4192 - val_accuracy: 0.7625\n",
            "Epoch 14/120\n",
            "1440/1440 [==============================] - 5s 3ms/step - loss: 0.4145 - accuracy: 0.7692 - val_loss: 0.4268 - val_accuracy: 0.7236\n",
            "Epoch 15/120\n",
            "1440/1440 [==============================] - 5s 3ms/step - loss: 0.4145 - accuracy: 0.7699 - val_loss: 0.4126 - val_accuracy: 0.7762\n",
            "Epoch 16/120\n",
            "1440/1440 [==============================] - 5s 3ms/step - loss: 0.4127 - accuracy: 0.7717 - val_loss: 0.4136 - val_accuracy: 0.7741\n",
            "Epoch 17/120\n",
            "1440/1440 [==============================] - 5s 3ms/step - loss: 0.4130 - accuracy: 0.7700 - val_loss: 0.4100 - val_accuracy: 0.7754\n",
            "Epoch 18/120\n",
            "1440/1440 [==============================] - 5s 3ms/step - loss: 0.4114 - accuracy: 0.7726 - val_loss: 0.4112 - val_accuracy: 0.7768\n",
            "Epoch 19/120\n",
            "1440/1440 [==============================] - 5s 3ms/step - loss: 0.4114 - accuracy: 0.7715 - val_loss: 0.4122 - val_accuracy: 0.7734\n",
            "Epoch 20/120\n",
            "1440/1440 [==============================] - 4s 3ms/step - loss: 0.4113 - accuracy: 0.7708 - val_loss: 0.4131 - val_accuracy: 0.7754\n",
            "Epoch 21/120\n",
            "1440/1440 [==============================] - 5s 3ms/step - loss: 0.4110 - accuracy: 0.7723 - val_loss: 0.4089 - val_accuracy: 0.7757\n",
            "Epoch 22/120\n",
            "1440/1440 [==============================] - 4s 3ms/step - loss: 0.4100 - accuracy: 0.7723 - val_loss: 0.4075 - val_accuracy: 0.7746\n",
            "Epoch 23/120\n",
            "1440/1440 [==============================] - 4s 3ms/step - loss: 0.4097 - accuracy: 0.7720 - val_loss: 0.4072 - val_accuracy: 0.7766\n",
            "Epoch 24/120\n",
            "1440/1440 [==============================] - 7s 5ms/step - loss: 0.4097 - accuracy: 0.7723 - val_loss: 0.4107 - val_accuracy: 0.7676\n",
            "Epoch 25/120\n",
            "1440/1440 [==============================] - 5s 3ms/step - loss: 0.4088 - accuracy: 0.7724 - val_loss: 0.4081 - val_accuracy: 0.7786\n",
            "Epoch 26/120\n",
            "1440/1440 [==============================] - 4s 3ms/step - loss: 0.4088 - accuracy: 0.7724 - val_loss: 0.4132 - val_accuracy: 0.7715\n",
            "Epoch 27/120\n",
            "1440/1440 [==============================] - 4s 3ms/step - loss: 0.4079 - accuracy: 0.7738 - val_loss: 0.4072 - val_accuracy: 0.7757\n",
            "Epoch 28/120\n",
            "1440/1440 [==============================] - 4s 3ms/step - loss: 0.4075 - accuracy: 0.7742 - val_loss: 0.4081 - val_accuracy: 0.7754\n",
            "Epoch 29/120\n",
            "1440/1440 [==============================] - 4s 3ms/step - loss: 0.4072 - accuracy: 0.7736 - val_loss: 0.4098 - val_accuracy: 0.7757\n",
            "Epoch 30/120\n",
            "1440/1440 [==============================] - 5s 3ms/step - loss: 0.4072 - accuracy: 0.7732 - val_loss: 0.4070 - val_accuracy: 0.7754\n",
            "Epoch 31/120\n",
            "1440/1440 [==============================] - 4s 3ms/step - loss: 0.4070 - accuracy: 0.7743 - val_loss: 0.4057 - val_accuracy: 0.7781\n",
            "Epoch 32/120\n",
            "1440/1440 [==============================] - 4s 3ms/step - loss: 0.4069 - accuracy: 0.7734 - val_loss: 0.4088 - val_accuracy: 0.7753\n",
            "Epoch 33/120\n",
            "1440/1440 [==============================] - 4s 3ms/step - loss: 0.4059 - accuracy: 0.7741 - val_loss: 0.4087 - val_accuracy: 0.7777\n",
            "Epoch 34/120\n",
            "1440/1440 [==============================] - 5s 3ms/step - loss: 0.4061 - accuracy: 0.7750 - val_loss: 0.4062 - val_accuracy: 0.7746\n",
            "Epoch 35/120\n",
            "1440/1440 [==============================] - 6s 4ms/step - loss: 0.4057 - accuracy: 0.7749 - val_loss: 0.4066 - val_accuracy: 0.7715\n",
            "Epoch 36/120\n",
            "1440/1440 [==============================] - 6s 5ms/step - loss: 0.4057 - accuracy: 0.7751 - val_loss: 0.4109 - val_accuracy: 0.7728\n",
            "Epoch 37/120\n",
            "1440/1440 [==============================] - 4s 3ms/step - loss: 0.4057 - accuracy: 0.7746 - val_loss: 0.4048 - val_accuracy: 0.7760\n",
            "Epoch 38/120\n",
            "1440/1440 [==============================] - 4s 3ms/step - loss: 0.4051 - accuracy: 0.7748 - val_loss: 0.4064 - val_accuracy: 0.7755\n",
            "Epoch 39/120\n",
            "1440/1440 [==============================] - 4s 3ms/step - loss: 0.4046 - accuracy: 0.7746 - val_loss: 0.4093 - val_accuracy: 0.7752\n",
            "Epoch 40/120\n",
            "1440/1440 [==============================] - 5s 3ms/step - loss: 0.4051 - accuracy: 0.7752 - val_loss: 0.4055 - val_accuracy: 0.7736\n",
            "Epoch 41/120\n",
            "1440/1440 [==============================] - 4s 3ms/step - loss: 0.4044 - accuracy: 0.7747 - val_loss: 0.4091 - val_accuracy: 0.7762\n",
            "Epoch 42/120\n",
            "1440/1440 [==============================] - 4s 3ms/step - loss: 0.4043 - accuracy: 0.7748 - val_loss: 0.4049 - val_accuracy: 0.7749\n",
            "Epoch 43/120\n",
            "1440/1440 [==============================] - 4s 3ms/step - loss: 0.4041 - accuracy: 0.7756 - val_loss: 0.4047 - val_accuracy: 0.7775\n",
            "Epoch 44/120\n",
            "1440/1440 [==============================] - 5s 3ms/step - loss: 0.4040 - accuracy: 0.7755 - val_loss: 0.4040 - val_accuracy: 0.7744\n",
            "Epoch 45/120\n",
            "1440/1440 [==============================] - 5s 3ms/step - loss: 0.4037 - accuracy: 0.7758 - val_loss: 0.4047 - val_accuracy: 0.7784\n",
            "Epoch 46/120\n",
            "1440/1440 [==============================] - 5s 3ms/step - loss: 0.4038 - accuracy: 0.7746 - val_loss: 0.4039 - val_accuracy: 0.7739\n",
            "Epoch 47/120\n",
            "1440/1440 [==============================] - 5s 4ms/step - loss: 0.4034 - accuracy: 0.7754 - val_loss: 0.4040 - val_accuracy: 0.7774\n",
            "Epoch 48/120\n",
            "1440/1440 [==============================] - 4s 3ms/step - loss: 0.4035 - accuracy: 0.7757 - val_loss: 0.4023 - val_accuracy: 0.7766\n",
            "Epoch 49/120\n",
            "1440/1440 [==============================] - 7s 5ms/step - loss: 0.4031 - accuracy: 0.7761 - val_loss: 0.4048 - val_accuracy: 0.7725\n",
            "Epoch 50/120\n",
            "1440/1440 [==============================] - 4s 3ms/step - loss: 0.4033 - accuracy: 0.7750 - val_loss: 0.4015 - val_accuracy: 0.7756\n",
            "Epoch 51/120\n",
            "1440/1440 [==============================] - 5s 3ms/step - loss: 0.4026 - accuracy: 0.7764 - val_loss: 0.4043 - val_accuracy: 0.7779\n",
            "Epoch 52/120\n",
            "1440/1440 [==============================] - 5s 3ms/step - loss: 0.4028 - accuracy: 0.7760 - val_loss: 0.4046 - val_accuracy: 0.7774\n",
            "Epoch 53/120\n",
            "1440/1440 [==============================] - 4s 3ms/step - loss: 0.4024 - accuracy: 0.7756 - val_loss: 0.4036 - val_accuracy: 0.7762\n",
            "Epoch 54/120\n",
            "1440/1440 [==============================] - 5s 3ms/step - loss: 0.4022 - accuracy: 0.7757 - val_loss: 0.4070 - val_accuracy: 0.7704\n",
            "Epoch 55/120\n",
            "1440/1440 [==============================] - 4s 3ms/step - loss: 0.4024 - accuracy: 0.7771 - val_loss: 0.4088 - val_accuracy: 0.7717\n",
            "Epoch 56/120\n",
            "1440/1440 [==============================] - 4s 3ms/step - loss: 0.4022 - accuracy: 0.7761 - val_loss: 0.4094 - val_accuracy: 0.7761\n",
            "Epoch 57/120\n",
            "1440/1440 [==============================] - 4s 3ms/step - loss: 0.4023 - accuracy: 0.7764 - val_loss: 0.4057 - val_accuracy: 0.7739\n",
            "Epoch 58/120\n",
            "1440/1440 [==============================] - 5s 3ms/step - loss: 0.4019 - accuracy: 0.7756 - val_loss: 0.4066 - val_accuracy: 0.7745\n",
            "Epoch 59/120\n",
            "1440/1440 [==============================] - 4s 3ms/step - loss: 0.4019 - accuracy: 0.7762 - val_loss: 0.4052 - val_accuracy: 0.7762\n",
            "Epoch 60/120\n",
            "1440/1440 [==============================] - 5s 3ms/step - loss: 0.4015 - accuracy: 0.7760 - val_loss: 0.4024 - val_accuracy: 0.7758\n",
            "Epoch 61/120\n",
            "1440/1440 [==============================] - 5s 3ms/step - loss: 0.4015 - accuracy: 0.7762 - val_loss: 0.4034 - val_accuracy: 0.7779\n",
            "Epoch 62/120\n",
            "1440/1440 [==============================] - 6s 4ms/step - loss: 0.4012 - accuracy: 0.7774 - val_loss: 0.4035 - val_accuracy: 0.7768\n",
            "Epoch 63/120\n",
            "1440/1440 [==============================] - 4s 3ms/step - loss: 0.4012 - accuracy: 0.7778 - val_loss: 0.4092 - val_accuracy: 0.7733\n",
            "Epoch 64/120\n",
            "1440/1440 [==============================] - 4s 3ms/step - loss: 0.4012 - accuracy: 0.7766 - val_loss: 0.4033 - val_accuracy: 0.7755\n",
            "Epoch 65/120\n",
            "1440/1440 [==============================] - 5s 3ms/step - loss: 0.4012 - accuracy: 0.7769 - val_loss: 0.4043 - val_accuracy: 0.7762\n",
            "Epoch 66/120\n",
            "1440/1440 [==============================] - 5s 3ms/step - loss: 0.4013 - accuracy: 0.7763 - val_loss: 0.4056 - val_accuracy: 0.7773\n",
            "Epoch 67/120\n",
            "1440/1440 [==============================] - 5s 3ms/step - loss: 0.4009 - accuracy: 0.7772 - val_loss: 0.4048 - val_accuracy: 0.7776\n",
            "Epoch 68/120\n",
            "1440/1440 [==============================] - 5s 3ms/step - loss: 0.4012 - accuracy: 0.7757 - val_loss: 0.4027 - val_accuracy: 0.7768\n",
            "Epoch 69/120\n",
            "1440/1440 [==============================] - 5s 3ms/step - loss: 0.4004 - accuracy: 0.7765 - val_loss: 0.4070 - val_accuracy: 0.7746\n",
            "Epoch 70/120\n",
            "1440/1440 [==============================] - 5s 3ms/step - loss: 0.4005 - accuracy: 0.7774 - val_loss: 0.4043 - val_accuracy: 0.7747\n",
            "Epoch 71/120\n",
            "1440/1440 [==============================] - 4s 3ms/step - loss: 0.4005 - accuracy: 0.7763 - val_loss: 0.4029 - val_accuracy: 0.7753\n",
            "Epoch 72/120\n",
            "1440/1440 [==============================] - 4s 3ms/step - loss: 0.4003 - accuracy: 0.7769 - val_loss: 0.4017 - val_accuracy: 0.7767\n",
            "Epoch 73/120\n",
            "1440/1440 [==============================] - 4s 3ms/step - loss: 0.4005 - accuracy: 0.7765 - val_loss: 0.4040 - val_accuracy: 0.7776\n",
            "Epoch 74/120\n",
            "1440/1440 [==============================] - 5s 3ms/step - loss: 0.4004 - accuracy: 0.7780 - val_loss: 0.4044 - val_accuracy: 0.7772\n",
            "Epoch 75/120\n",
            "1440/1440 [==============================] - 6s 4ms/step - loss: 0.4003 - accuracy: 0.7770 - val_loss: 0.4040 - val_accuracy: 0.7764\n",
            "Epoch 76/120\n",
            "1440/1440 [==============================] - 5s 3ms/step - loss: 0.4004 - accuracy: 0.7756 - val_loss: 0.4042 - val_accuracy: 0.7784\n",
            "Epoch 77/120\n",
            "1440/1440 [==============================] - 5s 3ms/step - loss: 0.4003 - accuracy: 0.7771 - val_loss: 0.4026 - val_accuracy: 0.7767\n",
            "Epoch 78/120\n",
            "1440/1440 [==============================] - 4s 3ms/step - loss: 0.3997 - accuracy: 0.7770 - val_loss: 0.4029 - val_accuracy: 0.7785\n",
            "Epoch 79/120\n",
            "1440/1440 [==============================] - 4s 3ms/step - loss: 0.3998 - accuracy: 0.7781 - val_loss: 0.4022 - val_accuracy: 0.7764\n",
            "Epoch 80/120\n",
            "1440/1440 [==============================] - 4s 3ms/step - loss: 0.3999 - accuracy: 0.7766 - val_loss: 0.4015 - val_accuracy: 0.7786\n",
            "Epoch 81/120\n",
            "1440/1440 [==============================] - 4s 3ms/step - loss: 0.4000 - accuracy: 0.7773 - val_loss: 0.4033 - val_accuracy: 0.7774\n",
            "Epoch 82/120\n",
            "1440/1440 [==============================] - 5s 3ms/step - loss: 0.3998 - accuracy: 0.7770 - val_loss: 0.4030 - val_accuracy: 0.7771\n",
            "Epoch 83/120\n",
            "1440/1440 [==============================] - 5s 3ms/step - loss: 0.3998 - accuracy: 0.7769 - val_loss: 0.4026 - val_accuracy: 0.7757\n",
            "Epoch 84/120\n",
            "1440/1440 [==============================] - 5s 3ms/step - loss: 0.3995 - accuracy: 0.7769 - val_loss: 0.4041 - val_accuracy: 0.7739\n",
            "Epoch 85/120\n",
            "1440/1440 [==============================] - 6s 4ms/step - loss: 0.3994 - accuracy: 0.7774 - val_loss: 0.4070 - val_accuracy: 0.7768\n",
            "Epoch 86/120\n",
            "1440/1440 [==============================] - 5s 3ms/step - loss: 0.3995 - accuracy: 0.7764 - val_loss: 0.4053 - val_accuracy: 0.7773\n",
            "Epoch 87/120\n",
            "1440/1440 [==============================] - 6s 4ms/step - loss: 0.3995 - accuracy: 0.7773 - val_loss: 0.4038 - val_accuracy: 0.7778\n",
            "Epoch 88/120\n",
            "1440/1440 [==============================] - 5s 3ms/step - loss: 0.3997 - accuracy: 0.7770 - val_loss: 0.4018 - val_accuracy: 0.7779\n",
            "Epoch 89/120\n",
            "1440/1440 [==============================] - 4s 3ms/step - loss: 0.3991 - accuracy: 0.7769 - val_loss: 0.4011 - val_accuracy: 0.7784\n",
            "Epoch 90/120\n",
            "1440/1440 [==============================] - 5s 3ms/step - loss: 0.3995 - accuracy: 0.7769 - val_loss: 0.4029 - val_accuracy: 0.7766\n",
            "Epoch 91/120\n",
            "1440/1440 [==============================] - 5s 3ms/step - loss: 0.3991 - accuracy: 0.7778 - val_loss: 0.4047 - val_accuracy: 0.7780\n",
            "Epoch 92/120\n",
            "1440/1440 [==============================] - 5s 3ms/step - loss: 0.3990 - accuracy: 0.7782 - val_loss: 0.4035 - val_accuracy: 0.7765\n",
            "Epoch 93/120\n",
            "1440/1440 [==============================] - 4s 3ms/step - loss: 0.3991 - accuracy: 0.7767 - val_loss: 0.4020 - val_accuracy: 0.7771\n",
            "Epoch 94/120\n",
            "1440/1440 [==============================] - 4s 3ms/step - loss: 0.3992 - accuracy: 0.7770 - val_loss: 0.4030 - val_accuracy: 0.7751\n",
            "Epoch 95/120\n",
            "1440/1440 [==============================] - 5s 3ms/step - loss: 0.3991 - accuracy: 0.7774 - val_loss: 0.4017 - val_accuracy: 0.7772\n",
            "Epoch 96/120\n",
            "1440/1440 [==============================] - 4s 3ms/step - loss: 0.3989 - accuracy: 0.7771 - val_loss: 0.4018 - val_accuracy: 0.7772\n",
            "Epoch 97/120\n",
            "1440/1440 [==============================] - 5s 3ms/step - loss: 0.3992 - accuracy: 0.7777 - val_loss: 0.4012 - val_accuracy: 0.7774\n",
            "Epoch 98/120\n",
            "1440/1440 [==============================] - 5s 3ms/step - loss: 0.3988 - accuracy: 0.7775 - val_loss: 0.4040 - val_accuracy: 0.7748\n",
            "Epoch 99/120\n",
            "1440/1440 [==============================] - 6s 4ms/step - loss: 0.3986 - accuracy: 0.7774 - val_loss: 0.4047 - val_accuracy: 0.7772\n",
            "Epoch 100/120\n",
            "1440/1440 [==============================] - 5s 3ms/step - loss: 0.3988 - accuracy: 0.7775 - val_loss: 0.4019 - val_accuracy: 0.7780\n",
            "Epoch 101/120\n",
            "1440/1440 [==============================] - 5s 3ms/step - loss: 0.3988 - accuracy: 0.7783 - val_loss: 0.4044 - val_accuracy: 0.7757\n",
            "Epoch 102/120\n",
            "1440/1440 [==============================] - 5s 3ms/step - loss: 0.3986 - accuracy: 0.7780 - val_loss: 0.4040 - val_accuracy: 0.7777\n",
            "Epoch 103/120\n",
            "1440/1440 [==============================] - 5s 3ms/step - loss: 0.3986 - accuracy: 0.7771 - val_loss: 0.4038 - val_accuracy: 0.7750\n",
            "Epoch 104/120\n",
            "1440/1440 [==============================] - 4s 3ms/step - loss: 0.3987 - accuracy: 0.7775 - val_loss: 0.4016 - val_accuracy: 0.7763\n",
            "Epoch 105/120\n",
            "1440/1440 [==============================] - 4s 3ms/step - loss: 0.3987 - accuracy: 0.7779 - val_loss: 0.4032 - val_accuracy: 0.7761\n",
            "Epoch 106/120\n",
            "1440/1440 [==============================] - 4s 3ms/step - loss: 0.3987 - accuracy: 0.7767 - val_loss: 0.4023 - val_accuracy: 0.7780\n",
            "Epoch 107/120\n",
            "1440/1440 [==============================] - 4s 3ms/step - loss: 0.3985 - accuracy: 0.7788 - val_loss: 0.4018 - val_accuracy: 0.7764\n",
            "Epoch 108/120\n",
            "1440/1440 [==============================] - 4s 3ms/step - loss: 0.3981 - accuracy: 0.7785 - val_loss: 0.4045 - val_accuracy: 0.7755\n",
            "Epoch 109/120\n",
            "1440/1440 [==============================] - 4s 3ms/step - loss: 0.3982 - accuracy: 0.7770 - val_loss: 0.4046 - val_accuracy: 0.7764\n",
            "Epoch 110/120\n",
            "1440/1440 [==============================] - 4s 3ms/step - loss: 0.3984 - accuracy: 0.7777 - val_loss: 0.4006 - val_accuracy: 0.7763\n",
            "Epoch 111/120\n",
            "1440/1440 [==============================] - 5s 3ms/step - loss: 0.3984 - accuracy: 0.7773 - val_loss: 0.4017 - val_accuracy: 0.7791\n",
            "Epoch 112/120\n",
            "1440/1440 [==============================] - 5s 4ms/step - loss: 0.3980 - accuracy: 0.7775 - val_loss: 0.4020 - val_accuracy: 0.7762\n",
            "Epoch 113/120\n",
            "1440/1440 [==============================] - 6s 4ms/step - loss: 0.3980 - accuracy: 0.7780 - val_loss: 0.4034 - val_accuracy: 0.7759\n",
            "Epoch 114/120\n",
            "1440/1440 [==============================] - 4s 3ms/step - loss: 0.3979 - accuracy: 0.7785 - val_loss: 0.4037 - val_accuracy: 0.7756\n",
            "Epoch 115/120\n",
            "1440/1440 [==============================] - 4s 3ms/step - loss: 0.3979 - accuracy: 0.7776 - val_loss: 0.4014 - val_accuracy: 0.7762\n",
            "Epoch 116/120\n",
            "1440/1440 [==============================] - 5s 3ms/step - loss: 0.3979 - accuracy: 0.7772 - val_loss: 0.4053 - val_accuracy: 0.7775\n",
            "Epoch 117/120\n",
            "1440/1440 [==============================] - 5s 3ms/step - loss: 0.3979 - accuracy: 0.7780 - val_loss: 0.4022 - val_accuracy: 0.7765\n",
            "Epoch 118/120\n",
            "1440/1440 [==============================] - 5s 3ms/step - loss: 0.3981 - accuracy: 0.7778 - val_loss: 0.4023 - val_accuracy: 0.7778\n",
            "Epoch 119/120\n",
            "1440/1440 [==============================] - 4s 3ms/step - loss: 0.3978 - accuracy: 0.7779 - val_loss: 0.4015 - val_accuracy: 0.7781\n",
            "Epoch 120/120\n",
            "1440/1440 [==============================] - 5s 3ms/step - loss: 0.3980 - accuracy: 0.7780 - val_loss: 0.4041 - val_accuracy: 0.7778\n"
          ]
        }
      ],
      "source": [
        "# Do the usual business for keras training\n",
        "history = model.fit(\n",
        "    x_train,\n",
        "    y_train,\n",
        "    batch_size=50,\n",
        "    epochs=120,\n",
        "    validation_data=(x_val, y_val),verbose=1\n",
        ")"
      ]
    },
    {
      "cell_type": "code",
      "execution_count": 30,
      "metadata": {
        "colab": {
          "base_uri": "https://localhost:8080/",
          "height": 265
        },
        "id": "yYYVqm8CWR5U",
        "outputId": "51eec104-fbb9-4b9d-d248-311c4678a0a9"
      },
      "outputs": [
        {
          "output_type": "display_data",
          "data": {
            "text/plain": [
              "<Figure size 432x288 with 1 Axes>"
            ],
            "image/png": "[encoded data removed]"
          },
          "metadata": {
            "needs_background": "light"
          }
        }
      ],
      "source": [
        "# Plot our training curves. This is alwasy important to see if we've started to overfit or whether \n",
        "# we could benefit from more training cycles....\n",
        "import matplotlib.pyplot as plt\n",
        "plt.plot(history.history[\"accuracy\"], label=\"Training Accuracy\")\n",
        "plt.plot(history.history[\"val_accuracy\"],label=\"Validation Set Accuracy\")\n",
        "plt.legend()\n",
        "plt.grid()\n",
        "# The following graph should show about 77% accuracy."
      ]
    },
    {
      "cell_type": "code",
      "source": [],
      "metadata": {
        "id": "5UT_4Ta0B6Je"
      },
      "execution_count": 44,
      "outputs": []
    },
    {
      "cell_type": "code",
      "execution_count": 14,
      "metadata": {
        "colab": {
          "base_uri": "https://localhost:8080/"
        },
        "id": "QghrzvFGWR5U",
        "outputId": "90126d04-3ffc-461a-f9a6-9dac055206b4"
      },
      "outputs": [
        {
          "output_type": "stream",
          "name": "stdout",
          "text": [
            "0.39312155348436656\n"
          ]
        }
      ],
      "source": [
        "# Calculate base rate accuracy\n",
        "print(y_train.mean())\n",
        "# This shows us what accuracy we could get if we just guess the same thing all the time.\n"
      ]
    },
    {
      "cell_type": "markdown",
      "metadata": {
        "id": "pxhUrMyGWR5U"
      },
      "source": [
        "- In this game, since there are always 2 spies randomly chosen from a team of 5,  that is 2/5=40% of the time we could guess someone is a spy.  This matches the base rate above, very closely.   \n",
        "\n",
        "- However if we just wanted a simple fixed classifer to make the best fixed guess, by just saying  \"Not Spy\" all of the time we could score a whopping 60% accuracy!  So if our classifier can't beat  60% then we can say that it is rubbish.\n",
        "- Fortunately our classifer is scoring over 70% accuracy comfortably (as should be shown in the graph above)."
      ]
    },
    {
      "cell_type": "markdown",
      "metadata": {
        "id": "nYzwpIv0WR5U"
      },
      "source": [
        "- In the next code block, I'd like to work out if our neural network's accuracy improves during each game.\n",
        "- For example, once we've seen several rounds of play we gather more clues as to who is a spy, so our accuracy should increase as each game goes on."
      ]
    },
    {
      "cell_type": "code",
      "execution_count": 15,
      "metadata": {
        "colab": {
          "base_uri": "https://localhost:8080/",
          "height": 331
        },
        "id": "LaD7ekHoWR5V",
        "outputId": "630d4781-5676-4141-fcef-9f1ed983cc85"
      },
      "outputs": [
        {
          "output_type": "stream",
          "name": "stdout",
          "text": [
            "maximum_turn 5\n",
            "tf.Tensor([0 1 2 3 4], shape=(5,), dtype=int64) [0.7464554, 0.76355666, 0.77812845, 0.7928868, 0.7994115]\n"
          ]
        },
        {
          "output_type": "display_data",
          "data": {
            "text/plain": [
              "<Figure size 432x288 with 1 Axes>"
            ],
            "image/png": "[encoded data removed]"
          },
          "metadata": {
            "needs_background": "light"
          }
        }
      ],
      "source": [
        "accuracy_by_turn=[]\n",
        "maximum_turn=df['Turn'].max()\n",
        "accuracy_metric=tf.keras.metrics.Accuracy()\n",
        "print(\"maximum_turn\",maximum_turn)\n",
        "for turn in range(1,maximum_turn+1):\n",
        "    df_restricted=df.query('Turn>='+str(turn)) # Pull out just those rows of the training data corresponding to later turns in the game\n",
        "    \n",
        "    x=df_restricted.values[:,4:18].astype(np.float32)\n",
        "    y=df_restricted.values[:,18].astype(np.int32)\n",
        "    y_guess=model(x)\n",
        "    y_guess=tf.argmax(y_guess,axis=1)\n",
        "    #accuracy=tf.reduce_mean(tf.cast(tf.equal(y,y_guess),tf.float32)) # This formula owuld also give us the accuracy but this is hand-evaluated.\n",
        "    accuracy=accuracy_metric(y_guess,y) # This function calculates accuracy using an in-built keras function.\n",
        "    accuracy_by_turn.append(accuracy.numpy()) # record the results so we can plot them.\n",
        "print(tf.range(maximum_turn),accuracy_by_turn)\n",
        "plt.plot(tf.range(1,1+len(accuracy_by_turn)),accuracy_by_turn)\n",
        "plt.title('Accuracy at identifying whether \"Bounder\" is a spy as the game progresses')\n",
        "plt.xlabel('Turn')\n",
        "plt.ylabel('Accuracy')\n",
        "plt.grid()"
      ]
    },
    {
      "cell_type": "code",
      "execution_count": 16,
      "metadata": {
        "id": "x9odK666WR5V"
      },
      "outputs": [],
      "source": [
        "# Finally, save our model so we can build a resistance-bot that plays using this neural network.\n",
        "model.save('loggerbot_classifier')"
      ]
    },
    {
      "cell_type": "code",
      "source": [
        "import tensorflow_decision_forests as tfdf"
      ],
      "metadata": {
        "colab": {
          "base_uri": "https://localhost:8080/"
        },
        "id": "YXCbGGVvGYJl",
        "outputId": "bc71c074-0737-45bf-b3b7-53af2b509034"
      },
      "execution_count": 2,
      "outputs": [
        {
          "output_type": "stream",
          "name": "stderr",
          "text": [
            "WARNING:root:TensorFlow Decision Forests 1.0.1 is compatible with the following TensorFlow Versions: ['2.10.0']. However, TensorFlow 2.10.1 was detected. This can cause issues with the TF API and symbols in the custom C++ ops. See the TF and TF-DF compatibility table at https://github.com/tensorflow/decision-forests/blob/main/documentation/known_issues.md#compatibility-table.\n"
          ]
        }
      ]
    },
    {
      "cell_type": "code",
      "source": [
        "import tensorflow_decision_forests as tfdf\n",
        "import pandas as pd\n",
        "\n",
        "# Load the dataset in a Pandas dataframe.\n",
        "train_df = pd.read_csv(\"project/train.csv\")\n",
        "test_df = pd.read_csv(\"project/test.csv\")\n",
        "\n",
        "# Convert the dataset into a TensorFlow dataset.\n",
        "train_ds = tfdf.keras.pd_dataframe_to_tf_dataset(train_df, label=\"my_label\")\n",
        "test_ds = tfdf.keras.pd_dataframe_to_tf_dataset(test_df, label=\"my_label\")\n",
        "\n",
        "# Train the model\n",
        "model = tfdf.keras.RandomForestModel()\n",
        "model.fit(train_ds)\n",
        "\n",
        "# Look at the model.\n",
        "model.summary()\n",
        "\n",
        "# Evaluate the model.\n",
        "model.evaluate(test_ds)\n",
        "\n",
        "# Export to a TensorFlow SavedModel.\n",
        "# Note: the model is compatible with Yggdrasil Decision Forests.\n",
        "model.save(\"project/model\")"
      ],
      "metadata": {
        "colab": {
          "base_uri": "https://localhost:8080/",
          "height": 383
        },
        "id": "eTIaec9IGZwh",
        "outputId": "0265deed-90c3-417d-e025-b97747ba4ec2"
      },
      "execution_count": 4,
      "outputs": [
        {
          "output_type": "error",
          "ename": "ModuleNotFoundError",
          "evalue": "ignored",
          "traceback": [
            "\u001b[0;31m---------------------------------------------------------------------------\u001b[0m",
            "\u001b[0;31mModuleNotFoundError\u001b[0m                       Traceback (most recent call last)",
            "\u001b[0;32m<ipython-input-4-76955958c348>\u001b[0m in \u001b[0;36m<module>\u001b[0;34m\u001b[0m\n\u001b[0;32m----> 1\u001b[0;31m \u001b[0;32mimport\u001b[0m \u001b[0mtensorflow_decision_forests\u001b[0m \u001b[0;32mas\u001b[0m \u001b[0mtfdf\u001b[0m\u001b[0;34m\u001b[0m\u001b[0;34m\u001b[0m\u001b[0m\n\u001b[0m\u001b[1;32m      2\u001b[0m \u001b[0;32mimport\u001b[0m \u001b[0mpandas\u001b[0m \u001b[0;32mas\u001b[0m \u001b[0mpd\u001b[0m\u001b[0;34m\u001b[0m\u001b[0;34m\u001b[0m\u001b[0m\n\u001b[1;32m      3\u001b[0m \u001b[0;34m\u001b[0m\u001b[0m\n\u001b[1;32m      4\u001b[0m \u001b[0;31m# Load the dataset in a Pandas dataframe.\u001b[0m\u001b[0;34m\u001b[0m\u001b[0;34m\u001b[0m\u001b[0;34m\u001b[0m\u001b[0m\n\u001b[1;32m      5\u001b[0m \u001b[0mtrain_df\u001b[0m \u001b[0;34m=\u001b[0m \u001b[0mpd\u001b[0m\u001b[0;34m.\u001b[0m\u001b[0mread_csv\u001b[0m\u001b[0;34m(\u001b[0m\u001b[0;34m\"project/train.csv\"\u001b[0m\u001b[0;34m)\u001b[0m\u001b[0;34m\u001b[0m\u001b[0;34m\u001b[0m\u001b[0m\n",
            "\u001b[0;31mModuleNotFoundError\u001b[0m: No module named 'tensorflow_decision_forests'",
            "",
            "\u001b[0;31m---------------------------------------------------------------------------\u001b[0;32m\nNOTE: If your import is failing due to a missing package, you can\nmanually install dependencies using either !pip or !apt.\n\nTo view examples of installing some common dependencies, click the\n\"Open Examples\" button below.\n\u001b[0;31m---------------------------------------------------------------------------\u001b[0m\n"
          ],
          "errorDetails": {
            "actions": [
              {
                "action": "open_url",
                "actionText": "Open Examples",
                "url": "/notebooks/snippets/importing_libraries.ipynb"
              }
            ]
          }
        }
      ]
    },
    {
      "cell_type": "code",
      "source": [
        "accuracy_by_turn=[]\n",
        "maximum_turn=df['Turn'].max()\n",
        "accuracy_metric=tf.keras.metrics.Accuracy()\n",
        "print(\"maximum_turn\",maximum_turn)\n",
        "for turn in range(1,maximum_turn+1):\n",
        "    df_restricted=df.query('Turn>='+str(turn)) # Pull out just those rows of the training data corresponding to later turns in the game\n",
        "    \n",
        "    x=df_restricted.values[:,4:18].astype(np.float32)\n",
        "    y=df_restricted.values[:,18].astype(np.int32)\n",
        "    y_guess=model(x)\n",
        "    y_guess=tf.argmax(y_guess,axis=1)\n",
        "    #accuracy=tf.reduce_mean(tf.cast(tf.equal(y,y_guess),tf.float32)) # This formula owuld also give us the accuracy but this is hand-evaluated.\n",
        "    accuracy=accuracy_metric(y_guess,y) # This function calculates accuracy using an in-built keras function.\n",
        "    accuracy_by_turn.append(accuracy.numpy()) # record the results so we can plot them.\n",
        "print(tf.range(maximum_turn),accuracy_by_turn)\n",
        "plt.plot(tf.range(1,1+len(accuracy_by_turn)),accuracy_by_turn)\n",
        "plt.title('Accuracy at identifying whether \"Bounder\" is a spy as the game progresses')\n",
        "plt.xlabel('Turn')\n",
        "plt.ylabel('Accuracy')\n",
        "plt.grid()"
      ],
      "metadata": {
        "id": "1W2weoFtGAlv"
      },
      "execution_count": null,
      "outputs": []
    },
    {
      "cell_type": "code",
      "source": [
        "!pip install tensorflow_decision_forests"
      ],
      "metadata": {
        "colab": {
          "base_uri": "https://localhost:8080/"
        },
        "id": "NhYGfKcbHIum",
        "outputId": "f7b1d1b6-bb49-4073-bf63-f016561f8aa1"
      },
      "execution_count": 1,
      "outputs": [
        {
          "output_type": "stream",
          "name": "stdout",
          "text": [
            "Looking in indexes: https://pypi.org/simple, https://us-python.pkg.dev/colab-wheels/public/simple/\n",
            "Requirement already satisfied: tensorflow_decision_forests in /usr/local/lib/python3.7/dist-packages (1.0.1)\n",
            "Requirement already satisfied: tensorflow~=2.10.0 in /usr/local/lib/python3.7/dist-packages (from tensorflow_decision_forests) (2.10.1)\n",
            "Requirement already satisfied: wheel in /usr/local/lib/python3.7/dist-packages (from tensorflow_decision_forests) (0.38.3)\n",
            "Requirement already satisfied: pandas in /usr/local/lib/python3.7/dist-packages (from tensorflow_decision_forests) (1.3.5)\n",
            "Requirement already satisfied: absl-py in /usr/local/lib/python3.7/dist-packages (from tensorflow_decision_forests) (1.3.0)\n",
            "Requirement already satisfied: six in /usr/local/lib/python3.7/dist-packages (from tensorflow_decision_forests) (1.15.0)\n",
            "Requirement already satisfied: numpy in /usr/local/lib/python3.7/dist-packages (from tensorflow_decision_forests) (1.21.6)\n",
            "Requirement already satisfied: wurlitzer in /usr/local/lib/python3.7/dist-packages (from tensorflow_decision_forests) (3.0.2)\n",
            "Requirement already satisfied: setuptools in /usr/local/lib/python3.7/dist-packages (from tensorflow~=2.10.0->tensorflow_decision_forests) (57.4.0)\n",
            "Requirement already satisfied: h5py>=2.9.0 in /usr/local/lib/python3.7/dist-packages (from tensorflow~=2.10.0->tensorflow_decision_forests) (3.1.0)\n",
            "Requirement already satisfied: tensorflow-io-gcs-filesystem>=0.23.1 in /usr/local/lib/python3.7/dist-packages (from tensorflow~=2.10.0->tensorflow_decision_forests) (0.27.0)\n",
            "Requirement already satisfied: flatbuffers>=2.0 in /usr/local/lib/python3.7/dist-packages (from tensorflow~=2.10.0->tensorflow_decision_forests) (22.10.26)\n",
            "Requirement already satisfied: wrapt>=1.11.0 in /usr/local/lib/python3.7/dist-packages (from tensorflow~=2.10.0->tensorflow_decision_forests) (1.14.1)\n",
            "Requirement already satisfied: termcolor>=1.1.0 in /usr/local/lib/python3.7/dist-packages (from tensorflow~=2.10.0->tensorflow_decision_forests) (2.1.0)\n",
            "Requirement already satisfied: grpcio<2.0,>=1.24.3 in /usr/local/lib/python3.7/dist-packages (from tensorflow~=2.10.0->tensorflow_decision_forests) (1.50.0)\n",
            "Requirement already satisfied: google-pasta>=0.1.1 in /usr/local/lib/python3.7/dist-packages (from tensorflow~=2.10.0->tensorflow_decision_forests) (0.2.0)\n",
            "Requirement already satisfied: tensorflow-estimator<2.11,>=2.10.0 in /usr/local/lib/python3.7/dist-packages (from tensorflow~=2.10.0->tensorflow_decision_forests) (2.10.0)\n",
            "Requirement already satisfied: opt-einsum>=2.3.2 in /usr/local/lib/python3.7/dist-packages (from tensorflow~=2.10.0->tensorflow_decision_forests) (3.3.0)\n",
            "Requirement already satisfied: keras-preprocessing>=1.1.1 in /usr/local/lib/python3.7/dist-packages (from tensorflow~=2.10.0->tensorflow_decision_forests) (1.1.2)\n",
            "Requirement already satisfied: protobuf<3.20,>=3.9.2 in /usr/local/lib/python3.7/dist-packages (from tensorflow~=2.10.0->tensorflow_decision_forests) (3.19.6)\n",
            "Requirement already satisfied: tensorboard<2.11,>=2.10 in /usr/local/lib/python3.7/dist-packages (from tensorflow~=2.10.0->tensorflow_decision_forests) (2.10.1)\n",
            "Requirement already satisfied: astunparse>=1.6.0 in /usr/local/lib/python3.7/dist-packages (from tensorflow~=2.10.0->tensorflow_decision_forests) (1.6.3)\n",
            "Requirement already satisfied: keras<2.11,>=2.10.0 in /usr/local/lib/python3.7/dist-packages (from tensorflow~=2.10.0->tensorflow_decision_forests) (2.10.0)\n",
            "Requirement already satisfied: libclang>=13.0.0 in /usr/local/lib/python3.7/dist-packages (from tensorflow~=2.10.0->tensorflow_decision_forests) (14.0.6)\n",
            "Requirement already satisfied: packaging in /usr/local/lib/python3.7/dist-packages (from tensorflow~=2.10.0->tensorflow_decision_forests) (21.3)\n",
            "Requirement already satisfied: gast<=0.4.0,>=0.2.1 in /usr/local/lib/python3.7/dist-packages (from tensorflow~=2.10.0->tensorflow_decision_forests) (0.4.0)\n",
            "Requirement already satisfied: typing-extensions>=3.6.6 in /usr/local/lib/python3.7/dist-packages (from tensorflow~=2.10.0->tensorflow_decision_forests) (4.1.1)\n",
            "Requirement already satisfied: cached-property in /usr/local/lib/python3.7/dist-packages (from h5py>=2.9.0->tensorflow~=2.10.0->tensorflow_decision_forests) (1.5.2)\n",
            "Requirement already satisfied: google-auth<3,>=1.6.3 in /usr/local/lib/python3.7/dist-packages (from tensorboard<2.11,>=2.10->tensorflow~=2.10.0->tensorflow_decision_forests) (2.14.1)\n",
            "Requirement already satisfied: tensorboard-plugin-wit>=1.6.0 in /usr/local/lib/python3.7/dist-packages (from tensorboard<2.11,>=2.10->tensorflow~=2.10.0->tensorflow_decision_forests) (1.8.1)\n",
            "Requirement already satisfied: markdown>=2.6.8 in /usr/local/lib/python3.7/dist-packages (from tensorboard<2.11,>=2.10->tensorflow~=2.10.0->tensorflow_decision_forests) (3.4.1)\n",
            "Requirement already satisfied: werkzeug>=1.0.1 in /usr/local/lib/python3.7/dist-packages (from tensorboard<2.11,>=2.10->tensorflow~=2.10.0->tensorflow_decision_forests) (1.0.1)\n",
            "Requirement already satisfied: requests<3,>=2.21.0 in /usr/local/lib/python3.7/dist-packages (from tensorboard<2.11,>=2.10->tensorflow~=2.10.0->tensorflow_decision_forests) (2.23.0)\n",
            "Requirement already satisfied: google-auth-oauthlib<0.5,>=0.4.1 in /usr/local/lib/python3.7/dist-packages (from tensorboard<2.11,>=2.10->tensorflow~=2.10.0->tensorflow_decision_forests) (0.4.6)\n",
            "Requirement already satisfied: tensorboard-data-server<0.7.0,>=0.6.0 in /usr/local/lib/python3.7/dist-packages (from tensorboard<2.11,>=2.10->tensorflow~=2.10.0->tensorflow_decision_forests) (0.6.1)\n",
            "Requirement already satisfied: cachetools<6.0,>=2.0.0 in /usr/local/lib/python3.7/dist-packages (from google-auth<3,>=1.6.3->tensorboard<2.11,>=2.10->tensorflow~=2.10.0->tensorflow_decision_forests) (5.2.0)\n",
            "Requirement already satisfied: pyasn1-modules>=0.2.1 in /usr/local/lib/python3.7/dist-packages (from google-auth<3,>=1.6.3->tensorboard<2.11,>=2.10->tensorflow~=2.10.0->tensorflow_decision_forests) (0.2.8)\n",
            "Requirement already satisfied: rsa<5,>=3.1.4 in /usr/local/lib/python3.7/dist-packages (from google-auth<3,>=1.6.3->tensorboard<2.11,>=2.10->tensorflow~=2.10.0->tensorflow_decision_forests) (4.9)\n",
            "Requirement already satisfied: requests-oauthlib>=0.7.0 in /usr/local/lib/python3.7/dist-packages (from google-auth-oauthlib<0.5,>=0.4.1->tensorboard<2.11,>=2.10->tensorflow~=2.10.0->tensorflow_decision_forests) (1.3.1)\n",
            "Requirement already satisfied: importlib-metadata>=4.4 in /usr/local/lib/python3.7/dist-packages (from markdown>=2.6.8->tensorboard<2.11,>=2.10->tensorflow~=2.10.0->tensorflow_decision_forests) (4.13.0)\n",
            "Requirement already satisfied: zipp>=0.5 in /usr/local/lib/python3.7/dist-packages (from importlib-metadata>=4.4->markdown>=2.6.8->tensorboard<2.11,>=2.10->tensorflow~=2.10.0->tensorflow_decision_forests) (3.10.0)\n",
            "Requirement already satisfied: pyasn1<0.5.0,>=0.4.6 in /usr/local/lib/python3.7/dist-packages (from pyasn1-modules>=0.2.1->google-auth<3,>=1.6.3->tensorboard<2.11,>=2.10->tensorflow~=2.10.0->tensorflow_decision_forests) (0.4.8)\n",
            "Requirement already satisfied: idna<3,>=2.5 in /usr/local/lib/python3.7/dist-packages (from requests<3,>=2.21.0->tensorboard<2.11,>=2.10->tensorflow~=2.10.0->tensorflow_decision_forests) (2.10)\n",
            "Requirement already satisfied: chardet<4,>=3.0.2 in /usr/local/lib/python3.7/dist-packages (from requests<3,>=2.21.0->tensorboard<2.11,>=2.10->tensorflow~=2.10.0->tensorflow_decision_forests) (3.0.4)\n",
            "Requirement already satisfied: certifi>=2017.4.17 in /usr/local/lib/python3.7/dist-packages (from requests<3,>=2.21.0->tensorboard<2.11,>=2.10->tensorflow~=2.10.0->tensorflow_decision_forests) (2022.9.24)\n",
            "Requirement already satisfied: urllib3!=1.25.0,!=1.25.1,<1.26,>=1.21.1 in /usr/local/lib/python3.7/dist-packages (from requests<3,>=2.21.0->tensorboard<2.11,>=2.10->tensorflow~=2.10.0->tensorflow_decision_forests) (1.24.3)\n",
            "Requirement already satisfied: oauthlib>=3.0.0 in /usr/local/lib/python3.7/dist-packages (from requests-oauthlib>=0.7.0->google-auth-oauthlib<0.5,>=0.4.1->tensorboard<2.11,>=2.10->tensorflow~=2.10.0->tensorflow_decision_forests) (3.2.2)\n",
            "Requirement already satisfied: pyparsing!=3.0.5,>=2.0.2 in /usr/local/lib/python3.7/dist-packages (from packaging->tensorflow~=2.10.0->tensorflow_decision_forests) (3.0.9)\n",
            "Requirement already satisfied: python-dateutil>=2.7.3 in /usr/local/lib/python3.7/dist-packages (from pandas->tensorflow_decision_forests) (2.8.2)\n",
            "Requirement already satisfied: pytz>=2017.3 in /usr/local/lib/python3.7/dist-packages (from pandas->tensorflow_decision_forests) (2022.6)\n"
          ]
        }
      ]
    },
    {
      "cell_type": "code",
      "source": [
        "\n",
        "inputs = tf.keras.Input(shape=(num_inputs,))\n",
        "x = tf.keras.layers.Dense(10)(inputs)\n",
        "outputs = tf.keras.layers.Dense(1)(x)\n",
        "\n",
        "model2 = tfdf.keras.RandomForestModel(\n",
        "    # num_trees=500,\n",
        "    # growing_strategy=\"BEST_FIRST_GLOBAL\",\n",
        "    # max_depth=10,\n",
        "    # split_axis=\"SPARSE_OBLIQUE\",\n",
        "    # inputs = tf.keras.layers.Dense(10,activation = 'relu')\n",
        "    \n",
        ")"
      ],
      "metadata": {
        "colab": {
          "base_uri": "https://localhost:8080/",
          "height": 240
        },
        "id": "uzoLEf-tHUHU",
        "outputId": "ad718114-1eaf-4973-90f3-e8c00262bb0b"
      },
      "execution_count": 3,
      "outputs": [
        {
          "output_type": "error",
          "ename": "NameError",
          "evalue": "ignored",
          "traceback": [
            "\u001b[0;31m---------------------------------------------------------------------------\u001b[0m",
            "\u001b[0;31mNameError\u001b[0m                                 Traceback (most recent call last)",
            "\u001b[0;32m<ipython-input-3-49570fdefdf6>\u001b[0m in \u001b[0;36m<module>\u001b[0;34m\u001b[0m\n\u001b[0;32m----> 1\u001b[0;31m \u001b[0minputs\u001b[0m \u001b[0;34m=\u001b[0m \u001b[0mtf\u001b[0m\u001b[0;34m.\u001b[0m\u001b[0mkeras\u001b[0m\u001b[0;34m.\u001b[0m\u001b[0mInput\u001b[0m\u001b[0;34m(\u001b[0m\u001b[0mshape\u001b[0m\u001b[0;34m=\u001b[0m\u001b[0;34m(\u001b[0m\u001b[0mnum_inputs\u001b[0m\u001b[0;34m,\u001b[0m\u001b[0;34m)\u001b[0m\u001b[0;34m)\u001b[0m\u001b[0;34m\u001b[0m\u001b[0;34m\u001b[0m\u001b[0m\n\u001b[0m\u001b[1;32m      2\u001b[0m \u001b[0mx\u001b[0m \u001b[0;34m=\u001b[0m \u001b[0mtf\u001b[0m\u001b[0;34m.\u001b[0m\u001b[0mkeras\u001b[0m\u001b[0;34m.\u001b[0m\u001b[0mlayers\u001b[0m\u001b[0;34m.\u001b[0m\u001b[0mDense\u001b[0m\u001b[0;34m(\u001b[0m\u001b[0;36m10\u001b[0m\u001b[0;34m)\u001b[0m\u001b[0;34m(\u001b[0m\u001b[0minputs\u001b[0m\u001b[0;34m)\u001b[0m\u001b[0;34m\u001b[0m\u001b[0;34m\u001b[0m\u001b[0m\n\u001b[1;32m      3\u001b[0m \u001b[0moutputs\u001b[0m \u001b[0;34m=\u001b[0m \u001b[0mtf\u001b[0m\u001b[0;34m.\u001b[0m\u001b[0mkeras\u001b[0m\u001b[0;34m.\u001b[0m\u001b[0mlayers\u001b[0m\u001b[0;34m.\u001b[0m\u001b[0mDense\u001b[0m\u001b[0;34m(\u001b[0m\u001b[0;36m1\u001b[0m\u001b[0;34m)\u001b[0m\u001b[0;34m(\u001b[0m\u001b[0mx\u001b[0m\u001b[0;34m)\u001b[0m\u001b[0;34m\u001b[0m\u001b[0;34m\u001b[0m\u001b[0m\n\u001b[1;32m      4\u001b[0m \u001b[0;34m\u001b[0m\u001b[0m\n\u001b[1;32m      5\u001b[0m model2 = tfdf.keras.RandomForestModel(\n",
            "\u001b[0;31mNameError\u001b[0m: name 'tf' is not defined"
          ]
        }
      ]
    },
    {
      "cell_type": "code",
      "source": [
        "import tensorflow_decision_forests as tfdf"
      ],
      "metadata": {
        "id": "Y7Psv8f-D6bb"
      },
      "execution_count": 22,
      "outputs": []
    },
    {
      "cell_type": "code",
      "source": [
        "model2 = tfdf.keras.RandomForestModel(\n",
        "    num_trees=50,\n",
        "    growing_strategy=\"BEST_FIRST_GLOBAL\",\n",
        "    max_depth=50,\n",
        "    split_axis=\"SPARSE_OBLIQUE\",\n",
        "    # inputs = tf.keras.layers.Dense(10,activation = 'relu')\n",
        "    \n",
        ")"
      ],
      "metadata": {
        "colab": {
          "base_uri": "https://localhost:8080/"
        },
        "id": "mf1w2gXGEAS7",
        "outputId": "057b97de-c6e0-4d19-c111-b361c7e2d6c2"
      },
      "execution_count": 23,
      "outputs": [
        {
          "output_type": "stream",
          "name": "stdout",
          "text": [
            "Use /tmp/tmpua9j80dg as temporary training directory\n"
          ]
        }
      ]
    },
    {
      "cell_type": "code",
      "source": [
        "history = model2.fit(\n",
        "    x_train,\n",
        "    y_train,\n",
        "    # batch_size=50,\n",
        "    # epochs=120,\n",
        "    validation_data=(x_val, y_val)\n",
        ")"
      ],
      "metadata": {
        "colab": {
          "base_uri": "https://localhost:8080/"
        },
        "id": "RWH0ZiABEAVg",
        "outputId": "f22bfd49-6c7e-45ad-a358-55db595eae0f"
      },
      "execution_count": 24,
      "outputs": [
        {
          "output_type": "stream",
          "name": "stdout",
          "text": [
            "Reading training dataset...\n",
            "Training dataset read in 0:00:07.571919. Found 71993 examples.\n",
            "Reading validation dataset...\n",
            "Num validation examples: tf.Tensor(23998, shape=(), dtype=int32)\n",
            "Validation dataset read in 0:00:00.656303. Found 23998 examples.\n",
            "Training model...\n",
            "Model trained in 0:04:33.000007\n",
            "Compiling model...\n"
          ]
        },
        {
          "output_type": "stream",
          "name": "stderr",
          "text": [
            "WARNING:tensorflow:AutoGraph could not transform <function simple_ml_inference_op_with_handle at 0x7f435925b9e0> and will run it as-is.\n",
            "Please report this to the TensorFlow team. When filing the bug, set the verbosity to 10 (on Linux, `export AUTOGRAPH_VERBOSITY=10`) and attach the full output.\n",
            "Cause: could not get source code\n",
            "To silence this warning, decorate the function with @tf.autograph.experimental.do_not_convert\n"
          ]
        },
        {
          "output_type": "stream",
          "name": "stdout",
          "text": [
            "WARNING: AutoGraph could not transform <function simple_ml_inference_op_with_handle at 0x7f435925b9e0> and will run it as-is.\n",
            "Please report this to the TensorFlow team. When filing the bug, set the verbosity to 10 (on Linux, `export AUTOGRAPH_VERBOSITY=10`) and attach the full output.\n",
            "Cause: could not get source code\n",
            "To silence this warning, decorate the function with @tf.autograph.experimental.do_not_convert\n",
            "Model compiled.\n"
          ]
        }
      ]
    },
    {
      "cell_type": "code",
      "source": [
        "model2.summary()\n"
      ],
      "metadata": {
        "colab": {
          "base_uri": "https://localhost:8080/"
        },
        "id": "bWSF8DUXPHu6",
        "outputId": "4a7c736a-adb6-4b2e-8183-7644f2f65e37"
      },
      "execution_count": 31,
      "outputs": [
        {
          "output_type": "stream",
          "name": "stdout",
          "text": [
            "Model: \"random_forest_model\"\n",
            "_________________________________________________________________\n",
            " Layer (type)                Output Shape              Param #   \n",
            "=================================================================\n",
            "=================================================================\n",
            "Total params: 1\n",
            "Trainable params: 0\n",
            "Non-trainable params: 1\n",
            "_________________________________________________________________\n",
            "Type: \"RANDOM_FOREST\"\n",
            "Task: CLASSIFICATION\n",
            "Label: \"__LABEL\"\n",
            "\n",
            "Input Features (14):\n",
            "\tdata:0.0\n",
            "\tdata:0.1\n",
            "\tdata:0.10\n",
            "\tdata:0.11\n",
            "\tdata:0.12\n",
            "\tdata:0.13\n",
            "\tdata:0.2\n",
            "\tdata:0.3\n",
            "\tdata:0.4\n",
            "\tdata:0.5\n",
            "\tdata:0.6\n",
            "\tdata:0.7\n",
            "\tdata:0.8\n",
            "\tdata:0.9\n",
            "\n",
            "No weights\n",
            "\n",
            "Variable Importance: MEAN_MIN_DEPTH:\n",
            "    1.   \"__LABEL\"  6.729677 ################\n",
            "    2.  \"data:0.7\"  6.713548 ###############\n",
            "    3.  \"data:0.9\"  6.706774 ###############\n",
            "    4.  \"data:0.8\"  6.650323 ###############\n",
            "    5.  \"data:0.6\"  6.552258 ###############\n",
            "    6.  \"data:0.5\"  6.492581 ###############\n",
            "    7.  \"data:0.4\"  6.324516 ###############\n",
            "    8.  \"data:0.3\"  6.191935 ##############\n",
            "    9. \"data:0.12\"  6.175484 ##############\n",
            "   10. \"data:0.11\"  6.015161 ##############\n",
            "   11. \"data:0.13\"  5.980000 ##############\n",
            "   12. \"data:0.10\"  5.146452 ############\n",
            "   13.  \"data:0.2\"  4.770968 ###########\n",
            "   14.  \"data:0.1\"  2.571935 ######\n",
            "   15.  \"data:0.0\"  0.070000 \n",
            "\n",
            "Variable Importance: NUM_AS_ROOT:\n",
            "    1. \"data:0.0\" 93.000000 ################\n",
            "    2. \"data:0.1\"  7.000000 \n",
            "\n",
            "Variable Importance: NUM_NODES:\n",
            "    1.  \"data:0.0\" 874.000000 ################\n",
            "    2.  \"data:0.1\" 509.000000 #########\n",
            "    3. \"data:0.10\" 407.000000 #######\n",
            "    4.  \"data:0.2\" 236.000000 ####\n",
            "    5.  \"data:0.3\" 235.000000 ####\n",
            "    6. \"data:0.11\" 222.000000 ###\n",
            "    7. \"data:0.13\" 145.000000 ##\n",
            "    8. \"data:0.12\" 137.000000 ##\n",
            "    9.  \"data:0.4\" 91.000000 #\n",
            "   10.  \"data:0.5\" 55.000000 \n",
            "   11.  \"data:0.8\" 37.000000 \n",
            "   12.  \"data:0.6\" 29.000000 \n",
            "   13.  \"data:0.9\" 12.000000 \n",
            "   14.  \"data:0.7\" 11.000000 \n",
            "\n",
            "Variable Importance: SUM_SCORE:\n",
            "    1.  \"data:0.0\" 1254291.027940 ################\n",
            "    2.  \"data:0.1\" 228642.828691 ##\n",
            "    3.  \"data:0.2\" 80609.620840 #\n",
            "    4. \"data:0.10\" 57614.746835 \n",
            "    5. \"data:0.13\" 39351.115244 \n",
            "    6. \"data:0.11\" 26568.307427 \n",
            "    7.  \"data:0.3\" 23758.091495 \n",
            "    8. \"data:0.12\" 22202.876729 \n",
            "    9.  \"data:0.4\" 10667.428609 \n",
            "   10.  \"data:0.5\" 4985.449297 \n",
            "   11.  \"data:0.8\" 3649.184400 \n",
            "   12.  \"data:0.6\" 3627.071892 \n",
            "   13.  \"data:0.7\" 1299.759034 \n",
            "   14.  \"data:0.9\" 1188.871118 \n",
            "\n",
            "\n",
            "\n",
            "Winner take all: true\n",
            "Out-of-bag evaluation: accuracy:0.766144 logloss:5.87464\n",
            "Number of trees: 100\n",
            "Total number of nodes: 6100\n",
            "\n",
            "Number of nodes by tree:\n",
            "Count: 100 Average: 61 StdDev: 0\n",
            "Min: 61 Max: 61 Ignored: 0\n",
            "----------------------------------------------\n",
            "[ 61, 61] 100 100.00% 100.00% ##########\n",
            "\n",
            "Depth by leafs:\n",
            "Count: 3100 Average: 6.72968 StdDev: 2.31109\n",
            "Min: 1 Max: 16 Ignored: 0\n",
            "----------------------------------------------\n",
            "[  1,  2)  60   1.94%   1.94% #\n",
            "[  2,  3)  56   1.81%   3.74% #\n",
            "[  3,  4)  86   2.77%   6.52% ##\n",
            "[  4,  5) 241   7.77%  14.29% ####\n",
            "[  5,  6) 465  15.00%  29.29% ########\n",
            "[  6,  7) 568  18.32%  47.61% ##########\n",
            "[  7,  8) 553  17.84%  65.45% ##########\n",
            "[  8,  9) 424  13.68%  79.13% #######\n",
            "[  9, 10) 277   8.94%  88.06% #####\n",
            "[ 10, 11) 214   6.90%  94.97% ####\n",
            "[ 11, 12)  87   2.81%  97.77% ##\n",
            "[ 12, 13)  40   1.29%  99.06% #\n",
            "[ 13, 14)  16   0.52%  99.58%\n",
            "[ 14, 15)   5   0.16%  99.74%\n",
            "[ 15, 16)   4   0.13%  99.87%\n",
            "[ 16, 16]   4   0.13% 100.00%\n",
            "\n",
            "Number of training obs by leaf:\n",
            "Count: 3100 Average: 0 StdDev: 0\n",
            "Min: 0 Max: 0 Ignored: 0\n",
            "----------------------------------------------\n",
            "[ 0, 0] 3100 100.00% 100.00% ##########\n",
            "\n",
            "Attribute in nodes:\n",
            "\t874 : data:0.0 [NUMERICAL]\n",
            "\t509 : data:0.1 [NUMERICAL]\n",
            "\t407 : data:0.10 [NUMERICAL]\n",
            "\t236 : data:0.2 [NUMERICAL]\n",
            "\t235 : data:0.3 [NUMERICAL]\n",
            "\t222 : data:0.11 [NUMERICAL]\n",
            "\t145 : data:0.13 [NUMERICAL]\n",
            "\t137 : data:0.12 [NUMERICAL]\n",
            "\t91 : data:0.4 [NUMERICAL]\n",
            "\t55 : data:0.5 [NUMERICAL]\n",
            "\t37 : data:0.8 [NUMERICAL]\n",
            "\t29 : data:0.6 [NUMERICAL]\n",
            "\t12 : data:0.9 [NUMERICAL]\n",
            "\t11 : data:0.7 [NUMERICAL]\n",
            "\n",
            "Attribute in nodes with depth <= 0:\n",
            "\t93 : data:0.0 [NUMERICAL]\n",
            "\t7 : data:0.1 [NUMERICAL]\n",
            "\n",
            "Attribute in nodes with depth <= 1:\n",
            "\t172 : data:0.0 [NUMERICAL]\n",
            "\t46 : data:0.1 [NUMERICAL]\n",
            "\t12 : data:0.2 [NUMERICAL]\n",
            "\t5 : data:0.13 [NUMERICAL]\n",
            "\t2 : data:0.11 [NUMERICAL]\n",
            "\t1 : data:0.7 [NUMERICAL]\n",
            "\t1 : data:0.12 [NUMERICAL]\n",
            "\t1 : data:0.10 [NUMERICAL]\n",
            "\n",
            "Attribute in nodes with depth <= 2:\n",
            "\t292 : data:0.0 [NUMERICAL]\n",
            "\t101 : data:0.1 [NUMERICAL]\n",
            "\t38 : data:0.2 [NUMERICAL]\n",
            "\t11 : data:0.13 [NUMERICAL]\n",
            "\t6 : data:0.12 [NUMERICAL]\n",
            "\t6 : data:0.11 [NUMERICAL]\n",
            "\t6 : data:0.10 [NUMERICAL]\n",
            "\t2 : data:0.6 [NUMERICAL]\n",
            "\t1 : data:0.7 [NUMERICAL]\n",
            "\t1 : data:0.4 [NUMERICAL]\n",
            "\n",
            "Attribute in nodes with depth <= 3:\n",
            "\t409 : data:0.0 [NUMERICAL]\n",
            "\t168 : data:0.1 [NUMERICAL]\n",
            "\t80 : data:0.2 [NUMERICAL]\n",
            "\t59 : data:0.10 [NUMERICAL]\n",
            "\t26 : data:0.11 [NUMERICAL]\n",
            "\t24 : data:0.13 [NUMERICAL]\n",
            "\t20 : data:0.4 [NUMERICAL]\n",
            "\t13 : data:0.12 [NUMERICAL]\n",
            "\t10 : data:0.3 [NUMERICAL]\n",
            "\t5 : data:0.7 [NUMERICAL]\n",
            "\t5 : data:0.6 [NUMERICAL]\n",
            "\t4 : data:0.8 [NUMERICAL]\n",
            "\t2 : data:0.5 [NUMERICAL]\n",
            "\t1 : data:0.9 [NUMERICAL]\n",
            "\n",
            "Attribute in nodes with depth <= 5:\n",
            "\t637 : data:0.0 [NUMERICAL]\n",
            "\t328 : data:0.1 [NUMERICAL]\n",
            "\t252 : data:0.10 [NUMERICAL]\n",
            "\t152 : data:0.2 [NUMERICAL]\n",
            "\t106 : data:0.11 [NUMERICAL]\n",
            "\t79 : data:0.3 [NUMERICAL]\n",
            "\t76 : data:0.13 [NUMERICAL]\n",
            "\t64 : data:0.12 [NUMERICAL]\n",
            "\t45 : data:0.4 [NUMERICAL]\n",
            "\t21 : data:0.6 [NUMERICAL]\n",
            "\t17 : data:0.8 [NUMERICAL]\n",
            "\t16 : data:0.5 [NUMERICAL]\n",
            "\t10 : data:0.7 [NUMERICAL]\n",
            "\t7 : data:0.9 [NUMERICAL]\n",
            "\n",
            "Condition type in nodes:\n",
            "\t3000 : ObliqueCondition\n",
            "Condition type in nodes with depth <= 0:\n",
            "\t100 : ObliqueCondition\n",
            "Condition type in nodes with depth <= 1:\n",
            "\t240 : ObliqueCondition\n",
            "Condition type in nodes with depth <= 2:\n",
            "\t464 : ObliqueCondition\n",
            "Condition type in nodes with depth <= 3:\n",
            "\t826 : ObliqueCondition\n",
            "Condition type in nodes with depth <= 5:\n",
            "\t1810 : ObliqueCondition\n",
            "Node format: NOT_SET\n",
            "\n",
            "Training OOB:\n",
            "\ttrees: 1, Out-of-bag evaluation: accuracy:0.755387 logloss:8.81675\n",
            "\ttrees: 5, Out-of-bag evaluation: accuracy:0.763245 logloss:7.67765\n",
            "\ttrees: 9, Out-of-bag evaluation: accuracy:0.764099 logloss:6.96929\n",
            "\ttrees: 15, Out-of-bag evaluation: accuracy:0.765193 logloss:6.54576\n",
            "\ttrees: 19, Out-of-bag evaluation: accuracy:0.765918 logloss:6.35027\n",
            "\ttrees: 23, Out-of-bag evaluation: accuracy:0.766221 logloss:6.24367\n",
            "\ttrees: 28, Out-of-bag evaluation: accuracy:0.766408 logloss:6.1668\n",
            "\ttrees: 32, Out-of-bag evaluation: accuracy:0.765797 logloss:6.14191\n",
            "\ttrees: 36, Out-of-bag evaluation: accuracy:0.765894 logloss:6.09292\n",
            "\ttrees: 41, Out-of-bag evaluation: accuracy:0.766283 logloss:6.04004\n",
            "\ttrees: 45, Out-of-bag evaluation: accuracy:0.766519 logloss:6.00373\n",
            "\ttrees: 48, Out-of-bag evaluation: accuracy:0.766991 logloss:5.98625\n",
            "\ttrees: 52, Out-of-bag evaluation: accuracy:0.766644 logloss:5.97765\n",
            "\ttrees: 56, Out-of-bag evaluation: accuracy:0.76645 logloss:5.9645\n",
            "\ttrees: 60, Out-of-bag evaluation: accuracy:0.766199 logloss:5.96263\n",
            "\ttrees: 64, Out-of-bag evaluation: accuracy:0.766074 logloss:5.95473\n",
            "\ttrees: 68, Out-of-bag evaluation: accuracy:0.765894 logloss:5.95151\n",
            "\ttrees: 72, Out-of-bag evaluation: accuracy:0.765949 logloss:5.94359\n",
            "\ttrees: 76, Out-of-bag evaluation: accuracy:0.76645 logloss:5.93771\n",
            "\ttrees: 80, Out-of-bag evaluation: accuracy:0.766325 logloss:5.93701\n",
            "\ttrees: 84, Out-of-bag evaluation: accuracy:0.766408 logloss:5.93367\n",
            "\ttrees: 88, Out-of-bag evaluation: accuracy:0.766116 logloss:5.92896\n",
            "\ttrees: 92, Out-of-bag evaluation: accuracy:0.766088 logloss:5.92828\n",
            "\ttrees: 96, Out-of-bag evaluation: accuracy:0.766172 logloss:5.92465\n",
            "\ttrees: 100, Out-of-bag evaluation: accuracy:0.766144 logloss:5.87464\n",
            "\n"
          ]
        }
      ]
    },
    {
      "cell_type": "code",
      "source": [
        "history.history"
      ],
      "metadata": {
        "colab": {
          "base_uri": "https://localhost:8080/"
        },
        "id": "cvl_g0ZpPq-g",
        "outputId": "da7a0cac-db0e-43a5-9c66-e55b721c5070"
      },
      "execution_count": 40,
      "outputs": [
        {
          "output_type": "execute_result",
          "data": {
            "text/plain": [
              "{'val_loss': [0.0]}"
            ]
          },
          "metadata": {},
          "execution_count": 40
        }
      ]
    },
    {
      "cell_type": "code",
      "source": [
        "import matplotlib.pyplot as plt\n",
        "plt.plot(History, label=\"Training Accuracy\")\n",
        "plt.plot(History_val_accuracy,label=\"Validation Set Accuracy\")\n",
        "plt.legend()\n",
        "plt.grid()"
      ],
      "metadata": {
        "colab": {
          "base_uri": "https://localhost:8080/",
          "height": 265
        },
        "id": "yLgvBjeJEAYa",
        "outputId": "18c3fe54-3e23-415f-d874-70c719fa7b30"
      },
      "execution_count": 37,
      "outputs": [
        {
          "output_type": "display_data",
          "data": {
            "text/plain": [
              "<Figure size 432x288 with 1 Axes>"
            ],
            "image/png": "[encoded data removed]"
          },
          "metadata": {
            "needs_background": "light"
          }
        }
      ]
    },
    {
      "cell_type": "code",
      "source": [
        "print(y_train.mean())"
      ],
      "metadata": {
        "colab": {
          "base_uri": "https://localhost:8080/"
        },
        "id": "1bIDHY2BM35F",
        "outputId": "05784ee7-797f-4efc-84fc-ec3493e67467"
      },
      "execution_count": 35,
      "outputs": [
        {
          "output_type": "stream",
          "name": "stdout",
          "text": [
            "0.39312155348436656\n"
          ]
        }
      ]
    },
    {
      "cell_type": "code",
      "source": [
        "accuracy_by_turn=[]\n",
        "maximum_turn=df['Turn'].max()\n",
        "accuracy_metric=tf.keras.metrics.Accuracy()\n",
        "print(\"maximum_turn\",maximum_turn)\n",
        "for turn in range(1,maximum_turn+1):\n",
        "    df_restricted=df.query('Turn>='+str(turn)) # Pull out just those rows of the training data corresponding to later turns in the game\n",
        "    \n",
        "    x=df_restricted.values[:,4:18].astype(np.float32)\n",
        "    y=df_restricted.values[:,18].astype(np.int32)\n",
        "    y_guess=model(x)\n",
        "    y_guess=tf.argmax(y_guess,axis=1)\n",
        "    #accuracy=tf.reduce_mean(tf.cast(tf.equal(y,y_guess),tf.float32)) # This formula owuld also give us the accuracy but this is hand-evaluated.\n",
        "    accuracy=accuracy_metric(y_guess,y) # This function calculates accuracy using an in-built keras function.\n",
        "    accuracy_by_turn.append(accuracy.numpy()) # record the results so we can plot them.\n",
        "print(tf.range(maximum_turn),accuracy_by_turn)\n",
        "plt.plot(tf.range(1,1+len(accuracy_by_turn)),accuracy_by_turn)\n",
        "plt.title('Accuracy at identifying whether \"Bounder\" is a spy as the game progresses')\n",
        "plt.xlabel('Turn')\n",
        "plt.ylabel('Accuracy')\n",
        "plt.grid()"
      ],
      "metadata": {
        "colab": {
          "base_uri": "https://localhost:8080/",
          "height": 331
        },
        "id": "Nl562BfQM35z",
        "outputId": "0c6a8ba2-d105-4375-a176-2c53f0b1d08a"
      },
      "execution_count": 36,
      "outputs": [
        {
          "output_type": "stream",
          "name": "stdout",
          "text": [
            "maximum_turn 5\n",
            "tf.Tensor([0 1 2 3 4], shape=(5,), dtype=int64) [0.77724993, 0.7979323, 0.816633, 0.8312017, 0.8367968]\n"
          ]
        },
        {
          "output_type": "display_data",
          "data": {
            "text/plain": [
              "<Figure size 432x288 with 1 Axes>"
            ],
            "image/png": "[encoded data removed]"
          },
          "metadata": {
            "needs_background": "light"
          }
        }
      ]
    },
    {
      "cell_type": "code",
      "source": [
        "model2.evaluate(x_val)"
      ],
      "metadata": {
        "colab": {
          "base_uri": "https://localhost:8080/"
        },
        "id": "-yF6CWwDM37q",
        "outputId": "3db97590-c014-4e8d-e73f-5c2304ec7991"
      },
      "execution_count": 34,
      "outputs": [
        {
          "output_type": "stream",
          "name": "stdout",
          "text": [
            "750/750 [==============================] - 3s 3ms/step - loss: 0.0000e+00\n"
          ]
        },
        {
          "output_type": "execute_result",
          "data": {
            "text/plain": [
              "0.0"
            ]
          },
          "metadata": {},
          "execution_count": 34
        }
      ]
    },
    {
      "cell_type": "code",
      "source": [
        "print(model2.evaluate(x_val,))"
      ],
      "metadata": {
        "colab": {
          "base_uri": "https://localhost:8080/"
        },
        "id": "4h7tEXXuM3-B",
        "outputId": "2f9ec9aa-7e10-47cb-a523-60ec71ccbd37"
      },
      "execution_count": 33,
      "outputs": [
        {
          "output_type": "stream",
          "name": "stdout",
          "text": [
            "750/750 [==============================] - 3s 4ms/step - loss: 0.0000e+00\n",
            "0.0\n"
          ]
        }
      ]
    },
    {
      "cell_type": "code",
      "source": [],
      "metadata": {
        "colab": {
          "base_uri": "https://localhost:8080/",
          "height": 312
        },
        "id": "cOSzoWZ_M4AX",
        "outputId": "aab2187f-56c6-484a-80b6-39e80b9eeaf3"
      },
      "execution_count": 27,
      "outputs": [
        {
          "output_type": "error",
          "ename": "TypeError",
          "evalue": "ignored",
          "traceback": [
            "\u001b[0;31m---------------------------------------------------------------------------\u001b[0m",
            "\u001b[0;31mTypeError\u001b[0m                                 Traceback (most recent call last)",
            "\u001b[0;32m<ipython-input-27-094102acef0b>\u001b[0m in \u001b[0;36m<module>\u001b[0;34m\u001b[0m\n\u001b[0;32m----> 1\u001b[0;31m \u001b[0mtest_ds\u001b[0m \u001b[0;34m=\u001b[0m \u001b[0mtfdf\u001b[0m\u001b[0;34m.\u001b[0m\u001b[0mkeras\u001b[0m\u001b[0;34m.\u001b[0m\u001b[0mpd_dataframe_to_tf_dataset\u001b[0m\u001b[0;34m(\u001b[0m\u001b[0mx_val\u001b[0m\u001b[0;34m,\u001b[0m\u001b[0my_val\u001b[0m\u001b[0;34m)\u001b[0m\u001b[0;34m\u001b[0m\u001b[0;34m\u001b[0m\u001b[0m\n\u001b[0m",
            "\u001b[0;32m/usr/local/lib/python3.7/dist-packages/tensorflow_decision_forests/keras/core_inference.py\u001b[0m in \u001b[0;36mpd_dataframe_to_tf_dataset\u001b[0;34m(dataframe, label, task, max_num_classes, in_place, fix_feature_names, weight, batch_size)\u001b[0m\n\u001b[1;32m    803\u001b[0m \u001b[0;34m\u001b[0m\u001b[0m\n\u001b[1;32m    804\u001b[0m   \u001b[0;32mif\u001b[0m \u001b[0;32mnot\u001b[0m \u001b[0min_place\u001b[0m\u001b[0;34m:\u001b[0m\u001b[0;34m\u001b[0m\u001b[0;34m\u001b[0m\u001b[0m\n\u001b[0;32m--> 805\u001b[0;31m     \u001b[0mdataframe\u001b[0m \u001b[0;34m=\u001b[0m \u001b[0mdataframe\u001b[0m\u001b[0;34m.\u001b[0m\u001b[0mcopy\u001b[0m\u001b[0;34m(\u001b[0m\u001b[0mdeep\u001b[0m\u001b[0;34m=\u001b[0m\u001b[0;32mTrue\u001b[0m\u001b[0;34m)\u001b[0m\u001b[0;34m\u001b[0m\u001b[0;34m\u001b[0m\u001b[0m\n\u001b[0m\u001b[1;32m    806\u001b[0m \u001b[0;34m\u001b[0m\u001b[0m\n\u001b[1;32m    807\u001b[0m   \u001b[0;32mif\u001b[0m \u001b[0mlabel\u001b[0m \u001b[0;32mis\u001b[0m \u001b[0;32mnot\u001b[0m \u001b[0;32mNone\u001b[0m\u001b[0;34m:\u001b[0m\u001b[0;34m\u001b[0m\u001b[0;34m\u001b[0m\u001b[0m\n",
            "\u001b[0;31mTypeError\u001b[0m: copy() got an unexpected keyword argument 'deep'"
          ]
        }
      ]
    },
    {
      "cell_type": "code",
      "source": [],
      "metadata": {
        "id": "UV7dKyzEM4C9"
      },
      "execution_count": null,
      "outputs": []
    }
  ],
  "metadata": {
    "kernelspec": {
      "display_name": "Python 3",
      "language": "python",
      "name": "python3"
    },
    "language_info": {
      "codemirror_mode": {
        "name": "ipython",
        "version": 3
      },
      "file_extension": ".py",
      "mimetype": "text/x-python",
      "name": "python",
      "nbconvert_exporter": "python",
      "pygments_lexer": "ipython3",
      "version": "3.8.5"
    },
    "colab": {
      "provenance": []
    }
  },
  "nbformat": 4,
  "nbformat_minor": 0
}